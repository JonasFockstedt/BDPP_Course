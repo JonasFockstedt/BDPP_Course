{
 "cells": [
  {
   "cell_type": "markdown",
   "metadata": {},
   "source": [
    "### Invoke SparkContext"
   ]
  },
  {
   "cell_type": "code",
   "execution_count": 1,
   "metadata": {},
   "outputs": [
    {
     "data": {
      "text/html": [
       "\n",
       "        <div>\n",
       "            <p><b>SparkContext</b></p>\n",
       "\n",
       "            <p><a href=\"http://XPS-15:4040\">Spark UI</a></p>\n",
       "\n",
       "            <dl>\n",
       "              <dt>Version</dt>\n",
       "                <dd><code>v3.0.0-preview2</code></dd>\n",
       "              <dt>Master</dt>\n",
       "                <dd><code>local[*]</code></dd>\n",
       "              <dt>AppName</dt>\n",
       "                <dd><code>Spark project</code></dd>\n",
       "            </dl>\n",
       "        </div>\n",
       "        "
      ],
      "text/plain": [
       "<SparkContext master=local[*] appName=Spark project>"
      ]
     },
     "execution_count": 1,
     "metadata": {},
     "output_type": "execute_result"
    }
   ],
   "source": [
    "import findspark\n",
    "findspark.init(\"C:/Users/Jonas/spark\")\n",
    "from pyspark import SparkContext, SparkConf\n",
    "conf = SparkConf().setAppName('Spark project')\n",
    "sc = SparkContext(conf=conf)\n",
    "sc"
   ]
  },
  {
   "cell_type": "markdown",
   "metadata": {},
   "source": [
    "### SparkSession"
   ]
  },
  {
   "cell_type": "code",
   "execution_count": 2,
   "metadata": {},
   "outputs": [],
   "source": [
    "from pyspark.sql import SparkSession\n",
    "\n",
    "spark = SparkSession \\\n",
    "    .builder \\\n",
    "    .appName(\"Spark Project\") \\\n",
    "    .config(\"spark.some.config.option\", \"some-value\") \\\n",
    "    .getOrCreate()"
   ]
  },
  {
   "cell_type": "code",
   "execution_count": 3,
   "metadata": {},
   "outputs": [
    {
     "data": {
      "text/html": [
       "\n",
       "        <div>\n",
       "            <p><b>SparkContext</b></p>\n",
       "\n",
       "            <p><a href=\"http://XPS-15:4040\">Spark UI</a></p>\n",
       "\n",
       "            <dl>\n",
       "              <dt>Version</dt>\n",
       "                <dd><code>v3.0.0-preview2</code></dd>\n",
       "              <dt>Master</dt>\n",
       "                <dd><code>local[*]</code></dd>\n",
       "              <dt>AppName</dt>\n",
       "                <dd><code>Spark project</code></dd>\n",
       "            </dl>\n",
       "        </div>\n",
       "        "
      ],
      "text/plain": [
       "<SparkContext master=local[*] appName=Spark project>"
      ]
     },
     "execution_count": 3,
     "metadata": {},
     "output_type": "execute_result"
    }
   ],
   "source": [
    "spark.sparkContext"
   ]
  },
  {
   "cell_type": "markdown",
   "metadata": {},
   "source": [
    "### Load data"
   ]
  },
  {
   "cell_type": "code",
   "execution_count": 4,
   "metadata": {},
   "outputs": [],
   "source": [
    "from pyspark import SQLContext\n",
    "reviews = spark.read.options(header=True).csv(\"amazon_reviews_us_Mobile_Electronics_v1_00.tsv\", sep=\"\\t\")"
   ]
  },
  {
   "cell_type": "markdown",
   "metadata": {},
   "source": [
    "### See structure of data"
   ]
  },
  {
   "cell_type": "code",
   "execution_count": 5,
   "metadata": {},
   "outputs": [
    {
     "name": "stdout",
     "output_type": "stream",
     "text": [
      "root\n",
      " |-- marketplace: string (nullable = true)\n",
      " |-- customer_id: string (nullable = true)\n",
      " |-- review_id: string (nullable = true)\n",
      " |-- product_id: string (nullable = true)\n",
      " |-- product_parent: string (nullable = true)\n",
      " |-- product_title: string (nullable = true)\n",
      " |-- product_category: string (nullable = true)\n",
      " |-- star_rating: string (nullable = true)\n",
      " |-- helpful_votes: string (nullable = true)\n",
      " |-- total_votes: string (nullable = true)\n",
      " |-- vine: string (nullable = true)\n",
      " |-- verified_purchase: string (nullable = true)\n",
      " |-- review_headline: string (nullable = true)\n",
      " |-- review_body: string (nullable = true)\n",
      " |-- review_date: string (nullable = true)\n",
      "\n"
     ]
    }
   ],
   "source": [
    "reviews.printSchema()"
   ]
  },
  {
   "cell_type": "markdown",
   "metadata": {},
   "source": [
    "### Display data and show significant attributes"
   ]
  },
  {
   "cell_type": "code",
   "execution_count": 6,
   "metadata": {},
   "outputs": [
    {
     "name": "stdout",
     "output_type": "stream",
     "text": [
      "+-----------+-----------+--------------+----------+--------------+--------------------+------------------+-----------+-------------+-----------+----+-----------------+--------------------+--------------------+-----------+\n",
      "|marketplace|customer_id|     review_id|product_id|product_parent|       product_title|  product_category|star_rating|helpful_votes|total_votes|vine|verified_purchase|     review_headline|         review_body|review_date|\n",
      "+-----------+-----------+--------------+----------+--------------+--------------------+------------------+-----------+-------------+-----------+----+-----------------+--------------------+--------------------+-----------+\n",
      "|         US|   20422322| R8MEA6IGAHO0B|B00MC4CED8|     217304173|BlackVue DR600GW-PMP|Mobile_Electronics|          5|            0|          0|   N|                Y|         Very Happy!|As advertised. Ev...| 2015-08-31|\n",
      "|         US|   40835037|R31LOQ8JGLPRLK|B00OQMFG1Q|     137313254|GENSSI GSM / GPS ...|Mobile_Electronics|          5|            0|          1|   N|                Y|           five star|          it's great| 2015-08-31|\n",
      "|         US|   51469641|R2Y0MM9YE6OP3P|B00QERR5CY|      82850235|iXCC Multi pack L...|Mobile_Electronics|          5|            0|          0|   N|                Y|        great cables|These work great ...| 2015-08-31|\n",
      "|         US|    4332923| RRB9C05HDOD4O|B00QUFTPV4|     221169481|abcGoodefg® FBI C...|Mobile_Electronics|          4|            0|          0|   N|                Y|Work very well bu...|Work very well bu...| 2015-08-31|\n",
      "|         US|   44855305|R26I2RI1GFV8QG|B0067XVNTG|     563475445|Generic Car Dashb...|Mobile_Electronics|          2|            0|          0|   N|                Y|Cameras has batte...|Be careful with t...| 2015-08-31|\n",
      "|         US|    7846966| RY8DDL22YG4R5|B00KA6CCVY|     713636156|Aweek® Air Acoust...|Mobile_Electronics|          3|            0|          1|   N|                Y|It appears to be ...|It appears to be ...| 2015-08-31|\n",
      "|         US|   21299354|R2AT2426ZHFUHH|B00MJCDPM2|     754171872|Sentey LS-4460 B-...|Mobile_Electronics|          3|            0|          1|   N|                Y|Didn't love the f...|First one arrived...| 2015-08-31|\n",
      "|         US|   28902968|R3RRXU2R23NMQ9|B00ET5AWBY|     508373185|iPad Car Headrest...|Mobile_Electronics|          5|            0|          0|   N|                Y|          Five Stars|Worked great for ...| 2015-08-31|\n",
      "|         US|    2074438|R250PR8VJUZ62F|B00Z9K379C|     759387370|ANWING Waterproof...|Mobile_Electronics|          4|            0|          2|   N|                Y|          Four Stars|this is a very go...| 2015-08-31|\n",
      "|         US|   48701722| RBEMQ29WJBHYG|B00YO3UYXW|     913911909|Jensen MCR-100 Ca...|Mobile_Electronics|          5|          164|        168|   N|                Y|  I LOVE my recorder|I LOVE my recorde...| 2015-08-31|\n",
      "|         US|    2990247|R19VVIUT4BZCMT|B011W26BU2|     938399424|Bluetooth Speaker...|Mobile_Electronics|          5|            2|          2|   N|                Y|          Five Stars|Great sound great...| 2015-08-31|\n",
      "|         US|   52946117|R1DT8JJUQHUKUL|B00H8PI78C|     661515294|15Pcs DC 5V 85dB ...|Mobile_Electronics|          3|            0|          1|   N|                Y|More of a beeper ...|If what you want ...| 2015-08-31|\n",
      "|         US|   49359994| RLIL6S9OGM3YA|B00M49C6MK|      91176851|      Sentey Ls 4162|Mobile_Electronics|          5|            0|          0|   N|                Y|          Five Stars|             Love it| 2015-08-31|\n",
      "|         US|    4158732|R34EZZ68VYPHO0|B011Q291PK|     891142775|IcePACK 8 Can Ins...|Mobile_Electronics|          1|            1|          1|   N|                Y|            One Star|               Sucks| 2015-08-31|\n",
      "|         US|   18944032|R3TZNSOXS13SIG|B00W6OLUGQ|     577462547|DTK® AMI MDI MMI ...|Mobile_Electronics|          2|            1|          3|   N|                Y|           Two Stars|u need to plug in...| 2015-08-31|\n",
      "|         US|     279606|R12UBZT87UX3AP|B008MY1F8W|     680240984|INPA K+CAN K+DCAN...|Mobile_Electronics|          5|            2|          2|   N|                Y|          Five Stars|Worked with MHD F...| 2015-08-31|\n",
      "|         US|   10947966| R5KCRE927NYMU|B00KW3XNUE|     219920841|Magicfly Wireless...|Mobile_Electronics|          2|            0|          0|   N|                N|Battery Cover Poo...|Just arrived,  re...| 2015-08-31|\n",
      "|         US|   18387442| RT12RQFU0V2AX|B009NGR0AK|     254898339|Humminbird XNT 9 ...|Mobile_Electronics|          5|            1|          1|   N|                Y|        Works great.|I bought this uni...| 2015-08-31|\n",
      "|         US|   48950322|R2K0YQPV5W2SJ1|B011W26BU2|     938399424|Bluetooth Speaker...|Mobile_Electronics|          4|            2|          2|   N|                Y|A Lot of Sound In...|I am giving the s...| 2015-08-31|\n",
      "|         US|   48148197|R104MY31OKNGXH|B00PAP68WO|     366592530|Foxnovo 3.7V 380m...|Mobile_Electronics|          5|            0|          0|   N|                Y|          Five Stars|Met my applicatio...| 2015-08-31|\n",
      "+-----------+-----------+--------------+----------+--------------+--------------------+------------------+-----------+-------------+-----------+----+-----------------+--------------------+--------------------+-----------+\n",
      "only showing top 20 rows\n",
      "\n"
     ]
    }
   ],
   "source": [
    "from pyspark.sql.functions import *\n",
    "\n",
    "reviews.show()"
   ]
  },
  {
   "cell_type": "markdown",
   "metadata": {},
   "source": [
    "### Show distribution between ratings and how many reviews each customer has written"
   ]
  },
  {
   "cell_type": "code",
   "execution_count": 7,
   "metadata": {},
   "outputs": [
    {
     "name": "stdout",
     "output_type": "stream",
     "text": [
      "+-----------+-----+\n",
      "|star_rating|count|\n",
      "+-----------+-----+\n",
      "|          5|52255|\n",
      "|          4|18088|\n",
      "|          1|17587|\n",
      "|          3| 9734|\n",
      "|          2| 7311|\n",
      "+-----------+-----+\n",
      "\n",
      "+-----------+-----+\n",
      "|customer_id|count|\n",
      "+-----------+-----+\n",
      "|   15127646|   25|\n",
      "|   29514513|   21|\n",
      "|   12259799|   18|\n",
      "|   19803990|   10|\n",
      "|   43856165|   10|\n",
      "|   52460215|   10|\n",
      "|   34408569|   10|\n",
      "|   53037408|    9|\n",
      "|   49675502|    9|\n",
      "|   50027179|    8|\n",
      "|   45070473|    8|\n",
      "|   53090839|    8|\n",
      "|   51666042|    8|\n",
      "|   32038204|    8|\n",
      "|   38773014|    7|\n",
      "|   34645354|    7|\n",
      "|   44834233|    7|\n",
      "|   51346302|    7|\n",
      "|    7394955|    7|\n",
      "|   17957446|    7|\n",
      "+-----------+-----+\n",
      "only showing top 20 rows\n",
      "\n"
     ]
    }
   ],
   "source": [
    "reviews.groupBy('star_rating').count().orderBy(desc('count')).show()\n",
    "reviews.groupBy('customer_id').count().orderBy(desc('count')).show()"
   ]
  },
  {
   "cell_type": "markdown",
   "metadata": {},
   "source": [
    "### See that there are more product id's than product titles"
   ]
  },
  {
   "cell_type": "code",
   "execution_count": 8,
   "metadata": {},
   "outputs": [
    {
     "data": {
      "text/plain": [
       "24770"
      ]
     },
     "execution_count": 8,
     "metadata": {},
     "output_type": "execute_result"
    }
   ],
   "source": [
    "reviews.select('product_title').distinct().count()"
   ]
  },
  {
   "cell_type": "code",
   "execution_count": 9,
   "metadata": {},
   "outputs": [
    {
     "data": {
      "text/plain": [
       "25801"
      ]
     },
     "execution_count": 9,
     "metadata": {},
     "output_type": "execute_result"
    }
   ],
   "source": [
    "reviews.select('product_id').distinct().count()"
   ]
  },
  {
   "cell_type": "markdown",
   "metadata": {},
   "source": [
    "### Drop attributes of no importance"
   ]
  },
  {
   "cell_type": "code",
   "execution_count": 10,
   "metadata": {},
   "outputs": [
    {
     "name": "stdout",
     "output_type": "stream",
     "text": [
      "+-----------+--------------+----------+--------------------+-----------+-----------------+\n",
      "|customer_id|     review_id|product_id|       product_title|star_rating|verified_purchase|\n",
      "+-----------+--------------+----------+--------------------+-----------+-----------------+\n",
      "|   20422322| R8MEA6IGAHO0B|B00MC4CED8|BlackVue DR600GW-PMP|          5|                Y|\n",
      "|   40835037|R31LOQ8JGLPRLK|B00OQMFG1Q|GENSSI GSM / GPS ...|          5|                Y|\n",
      "|   51469641|R2Y0MM9YE6OP3P|B00QERR5CY|iXCC Multi pack L...|          5|                Y|\n",
      "|    4332923| RRB9C05HDOD4O|B00QUFTPV4|abcGoodefg® FBI C...|          4|                Y|\n",
      "|   44855305|R26I2RI1GFV8QG|B0067XVNTG|Generic Car Dashb...|          2|                Y|\n",
      "|    7846966| RY8DDL22YG4R5|B00KA6CCVY|Aweek® Air Acoust...|          3|                Y|\n",
      "|   21299354|R2AT2426ZHFUHH|B00MJCDPM2|Sentey LS-4460 B-...|          3|                Y|\n",
      "|   28902968|R3RRXU2R23NMQ9|B00ET5AWBY|iPad Car Headrest...|          5|                Y|\n",
      "|    2074438|R250PR8VJUZ62F|B00Z9K379C|ANWING Waterproof...|          4|                Y|\n",
      "|   48701722| RBEMQ29WJBHYG|B00YO3UYXW|Jensen MCR-100 Ca...|          5|                Y|\n",
      "|    2990247|R19VVIUT4BZCMT|B011W26BU2|Bluetooth Speaker...|          5|                Y|\n",
      "|   52946117|R1DT8JJUQHUKUL|B00H8PI78C|15Pcs DC 5V 85dB ...|          3|                Y|\n",
      "|   49359994| RLIL6S9OGM3YA|B00M49C6MK|      Sentey Ls 4162|          5|                Y|\n",
      "|    4158732|R34EZZ68VYPHO0|B011Q291PK|IcePACK 8 Can Ins...|          1|                Y|\n",
      "|   18944032|R3TZNSOXS13SIG|B00W6OLUGQ|DTK® AMI MDI MMI ...|          2|                Y|\n",
      "|     279606|R12UBZT87UX3AP|B008MY1F8W|INPA K+CAN K+DCAN...|          5|                Y|\n",
      "|   10947966| R5KCRE927NYMU|B00KW3XNUE|Magicfly Wireless...|          2|                N|\n",
      "|   18387442| RT12RQFU0V2AX|B009NGR0AK|Humminbird XNT 9 ...|          5|                Y|\n",
      "|   48950322|R2K0YQPV5W2SJ1|B011W26BU2|Bluetooth Speaker...|          4|                Y|\n",
      "|   48148197|R104MY31OKNGXH|B00PAP68WO|Foxnovo 3.7V 380m...|          5|                Y|\n",
      "+-----------+--------------+----------+--------------------+-----------+-----------------+\n",
      "only showing top 20 rows\n",
      "\n"
     ]
    }
   ],
   "source": [
    "reviews = reviews.select(['customer_id', 'review_id', 'product_id', 'product_title', 'star_rating', 'verified_purchase'])\n",
    "#reviews = reviews.drop('vine', 'marketplace', 'helpful_votes', 'review_date', 'product_category')\n",
    "reviews.show()"
   ]
  },
  {
   "cell_type": "markdown",
   "metadata": {},
   "source": [
    "### Drop purchases that are not verified"
   ]
  },
  {
   "cell_type": "code",
   "execution_count": 11,
   "metadata": {},
   "outputs": [],
   "source": [
    "reviews = reviews.filter(reviews['verified_purchase'] == 'Y')"
   ]
  },
  {
   "cell_type": "markdown",
   "metadata": {},
   "source": [
    "### See if there are any missing values"
   ]
  },
  {
   "cell_type": "code",
   "execution_count": 12,
   "metadata": {},
   "outputs": [
    {
     "name": "stdout",
     "output_type": "stream",
     "text": [
      "+-----------+---------+----------+-------------+-----------+-----------------+\n",
      "|customer_id|review_id|product_id|product_title|star_rating|verified_purchase|\n",
      "+-----------+---------+----------+-------------+-----------+-----------------+\n",
      "|          0|        0|         0|            0|          0|                0|\n",
      "+-----------+---------+----------+-------------+-----------+-----------------+\n",
      "\n"
     ]
    }
   ],
   "source": [
    "reviews.select([count(when(col(column).isNull(), 1)).alias(column) for column in reviews.columns]).show()"
   ]
  },
  {
   "cell_type": "markdown",
   "metadata": {},
   "source": [
    "### One-hot encoding with pipelines"
   ]
  },
  {
   "cell_type": "code",
   "execution_count": 13,
   "metadata": {},
   "outputs": [
    {
     "name": "stdout",
     "output_type": "stream",
     "text": [
      "+-----------+--------------+----------+--------------------+-----------+-----------------+--------------+---------------+---------------+\n",
      "|customer_id|     review_id|product_id|       product_title|star_rating|verified_purchase|product_id_num|customer_id_num|star_rating_num|\n",
      "+-----------+--------------+----------+--------------------+-----------+-----------------+--------------+---------------+---------------+\n",
      "|   20422322| R8MEA6IGAHO0B|B00MC4CED8|BlackVue DR600GW-PMP|          5|                Y|        3015.0|        27489.0|            0.0|\n",
      "|   40835037|R31LOQ8JGLPRLK|B00OQMFG1Q|GENSSI GSM / GPS ...|          5|                Y|       21405.0|        58223.0|            0.0|\n",
      "|   51469641|R2Y0MM9YE6OP3P|B00QERR5CY|iXCC Multi pack L...|          5|                Y|          12.0|        78362.0|            0.0|\n",
      "|    4332923| RRB9C05HDOD4O|B00QUFTPV4|abcGoodefg® FBI C...|          4|                Y|        3877.0|        62750.0|            1.0|\n",
      "|   44855305|R26I2RI1GFV8QG|B0067XVNTG|Generic Car Dashb...|          2|                Y|           5.0|          190.0|            4.0|\n",
      "|    7846966| RY8DDL22YG4R5|B00KA6CCVY|Aweek® Air Acoust...|          3|                Y|         976.0|        84108.0|            3.0|\n",
      "|   21299354|R2AT2426ZHFUHH|B00MJCDPM2|Sentey LS-4460 B-...|          3|                Y|          81.0|        29093.0|            3.0|\n",
      "|   28902968|R3RRXU2R23NMQ9|B00ET5AWBY|iPad Car Headrest...|          5|                Y|        1073.0|        41650.0|            0.0|\n",
      "|    2074438|R250PR8VJUZ62F|B00Z9K379C|ANWING Waterproof...|          4|                Y|       22265.0|        28123.0|            1.0|\n",
      "|   48701722| RBEMQ29WJBHYG|B00YO3UYXW|Jensen MCR-100 Ca...|          5|                Y|        3894.0|        73231.0|            0.0|\n",
      "|    2990247|R19VVIUT4BZCMT|B011W26BU2|Bluetooth Speaker...|          5|                Y|        1315.0|        43074.0|            0.0|\n",
      "|   52946117|R1DT8JJUQHUKUL|B00H8PI78C|15Pcs DC 5V 85dB ...|          3|                Y|        2974.0|        81710.0|            3.0|\n",
      "|   49359994| RLIL6S9OGM3YA|B00M49C6MK|      Sentey Ls 4162|          5|                Y|         153.0|        74352.0|            0.0|\n",
      "|    4158732|R34EZZ68VYPHO0|B011Q291PK|IcePACK 8 Can Ins...|          1|                Y|       22304.0|        59441.0|            2.0|\n",
      "|   18944032|R3TZNSOXS13SIG|B00W6OLUGQ|DTK® AMI MDI MMI ...|          2|                Y|       22125.0|        24604.0|            4.0|\n",
      "|     279606|R12UBZT87UX3AP|B008MY1F8W|INPA K+CAN K+DCAN...|          5|                Y|         219.0|        40367.0|            0.0|\n",
      "|   18387442| RT12RQFU0V2AX|B009NGR0AK|Humminbird XNT 9 ...|          5|                Y|        4951.0|        23639.0|            0.0|\n",
      "|   48950322|R2K0YQPV5W2SJ1|B011W26BU2|Bluetooth Speaker...|          4|                Y|        1315.0|        73607.0|            1.0|\n",
      "|   48148197|R104MY31OKNGXH|B00PAP68WO|Foxnovo 3.7V 380m...|          5|                Y|       21500.0|        72281.0|            0.0|\n",
      "|   24863069|R32MW6D6CXKCFW|B00LTCIT7Y|Astatic (302-1000...|          2|                Y|        1436.0|        35493.0|            4.0|\n",
      "+-----------+--------------+----------+--------------------+-----------+-----------------+--------------+---------------+---------------+\n",
      "only showing top 20 rows\n",
      "\n"
     ]
    }
   ],
   "source": [
    "from pyspark.ml.feature import StringIndexer, OneHotEncoder\n",
    "from pyspark.ml import Pipeline\n",
    "\n",
    "# To one-hot encode product_id.\n",
    "prod_indexer = StringIndexer(inputCol='product_id', outputCol='product_id_num')\n",
    "prod_encoder = OneHotEncoder(inputCol='product_id_num', outputCol='product_id_num_vec')\n",
    "\n",
    "# To one-hot encode customer_id.\n",
    "cust_indexer = StringIndexer(inputCol='customer_id', outputCol='customer_id_num')\n",
    "cust_encoder = OneHotEncoder(inputCol='customer_id_num', outputCol='customer_id_num_vec')\n",
    "\n",
    "# To one-hot encode star_rating.\n",
    "star_indexer = StringIndexer(inputCol='star_rating', outputCol='star_rating_num')\n",
    "star_encoder = OneHotEncoder(inputCol='star_rating_num', outputCol='star_rating_num_vec')\n",
    "\n",
    "\n",
    "prod_pipe = Pipeline(stages = [prod_indexer, prod_encoder])\n",
    "cust_pipe = Pipeline(stages = [cust_indexer, cust_encoder])\n",
    "star_pipe = Pipeline(stages = [star_indexer, star_encoder])\n",
    "\n",
    "pipe = Pipeline(stages = [prod_indexer, cust_indexer, star_indexer])\n",
    "\n",
    "reviews_enc = pipe.fit(reviews).transform(reviews)\n",
    "reviews_enc.show()"
   ]
  },
  {
   "cell_type": "markdown",
   "metadata": {},
   "source": [
    "### Pick only the numerical attributes which the recommendations will be based on"
   ]
  },
  {
   "cell_type": "code",
   "execution_count": 14,
   "metadata": {},
   "outputs": [
    {
     "name": "stdout",
     "output_type": "stream",
     "text": [
      "+---------------+--------------+---------------+\n",
      "|customer_id_num|product_id_num|star_rating_num|\n",
      "+---------------+--------------+---------------+\n",
      "|        27489.0|        3015.0|            0.0|\n",
      "|        58223.0|       21405.0|            0.0|\n",
      "|        78362.0|          12.0|            0.0|\n",
      "|        62750.0|        3877.0|            1.0|\n",
      "|          190.0|           5.0|            4.0|\n",
      "|        84108.0|         976.0|            3.0|\n",
      "|        29093.0|          81.0|            3.0|\n",
      "|        41650.0|        1073.0|            0.0|\n",
      "|        28123.0|       22265.0|            1.0|\n",
      "|        73231.0|        3894.0|            0.0|\n",
      "|        43074.0|        1315.0|            0.0|\n",
      "|        81710.0|        2974.0|            3.0|\n",
      "|        74352.0|         153.0|            0.0|\n",
      "|        59441.0|       22304.0|            2.0|\n",
      "|        24604.0|       22125.0|            4.0|\n",
      "|        40367.0|         219.0|            0.0|\n",
      "|        23639.0|        4951.0|            0.0|\n",
      "|        73607.0|        1315.0|            1.0|\n",
      "|        72281.0|       21500.0|            0.0|\n",
      "|        35493.0|        1436.0|            4.0|\n",
      "+---------------+--------------+---------------+\n",
      "only showing top 20 rows\n",
      "\n"
     ]
    }
   ],
   "source": [
    "reviews_enc_only = reviews_enc.select('customer_id_num', 'product_id_num', 'star_rating_num')\n",
    "reviews_enc_only.show()"
   ]
  },
  {
   "cell_type": "markdown",
   "metadata": {},
   "source": [
    "### Train ALS model"
   ]
  },
  {
   "cell_type": "code",
   "execution_count": 15,
   "metadata": {},
   "outputs": [],
   "source": [
    "from pyspark.ml.recommendation import ALS\n",
    "# Split into train and test data.\n",
    "training, test = reviews_enc_only.randomSplit([0.8, 0.2])\n",
    "\n",
    "als = ALS(userCol='customer_id_num', itemCol='product_id_num', ratingCol='star_rating_num', \\\n",
    "          implicitPrefs=True , coldStartStrategy=\"drop\", nonnegative=True)\n",
    "trained_model = als.fit(training)"
   ]
  },
  {
   "cell_type": "markdown",
   "metadata": {},
   "source": [
    "### Test ALS model"
   ]
  },
  {
   "cell_type": "code",
   "execution_count": 16,
   "metadata": {},
   "outputs": [
    {
     "name": "stdout",
     "output_type": "stream",
     "text": [
      "Root mean squared error: 1.4790625749913373\n"
     ]
    }
   ],
   "source": [
    "from pyspark.ml.evaluation import RegressionEvaluator\n",
    "predictions = trained_model.transform(test)\n",
    "\n",
    "evaluator = RegressionEvaluator(metricName='rmse', labelCol='star_rating_num', predictionCol='prediction')\n",
    "rmse = evaluator.evaluate(predictions)\n",
    "print(f'Root mean squared error: {rmse}')"
   ]
  },
  {
   "cell_type": "markdown",
   "metadata": {},
   "source": [
    "### Cross-validation"
   ]
  },
  {
   "cell_type": "code",
   "execution_count": 24,
   "metadata": {},
   "outputs": [
    {
     "name": "stdout",
     "output_type": "stream",
     "text": [
      "Root Mean Squared Error: 1.4785828098110796\n"
     ]
    }
   ],
   "source": [
    "from pyspark.ml.tuning import CrossValidator, ParamGridBuilder\n",
    "\n",
    "params = ParamGridBuilder().addGrid(als.maxIter, [5, 10, 15])\\\n",
    "                            .addGrid(als.regParam, [0.001, 0.1, 0.5, 5, 10])\\\n",
    "                            .addGrid(als.rank, [1, 5, 10, 20]).build()\n",
    "cv = CrossValidator(estimator=als, estimatorParamMaps=params, evaluator=evaluator, numFolds=4)\n",
    "cv_model = cv.fit(training)\n",
    "predictions = cv_model.transform(test)\n",
    "rmse = evaluator.evaluate(predictions)\n",
    "\n",
    "print( \"Root Mean Squared Error: \"+ str(rmse))"
   ]
  },
  {
   "cell_type": "code",
   "execution_count": 23,
   "metadata": {},
   "outputs": [
    {
     "name": "stdout",
     "output_type": "stream",
     "text": [
      "{Param(parent='ALS_960aec482cc1', name='maxIter', doc='max number of iterations (>= 0).'): 5, Param(parent='ALS_960aec482cc1', name='regParam', doc='regularization parameter (>= 0).'): 0.1, Param(parent='ALS_960aec482cc1', name='rank', doc='rank of the factorization'): 5}\n"
     ]
    }
   ],
   "source": [
    "import numpy as np\n",
    "print(cv_model.getEstimatorParamMaps()[np.argmax(cv_model.avgMetrics)])"
   ]
  },
  {
   "cell_type": "markdown",
   "metadata": {},
   "source": [
    "### Create customer class which can present the recommended products for the customer"
   ]
  },
  {
   "cell_type": "code",
   "execution_count": 18,
   "metadata": {},
   "outputs": [],
   "source": [
    "import random\n",
    "\n",
    "class Customer():\n",
    "    def __init__(self):\n",
    "        self.id = None\n",
    "        self.purchase = {'product': None, 'rating': None}\n",
    "        self.recommendations = None\n",
    "        self.recommended_products = None\n",
    "        self.customer_id_num = None\n",
    "        self.dataset = None\n",
    "        self.dataset_num = None\n",
    "        \n",
    "    def buyProduct(self, product, rating):\n",
    "        self.purchase.update({'product': product, 'rating': rating})\n",
    "        \n",
    "    \n",
    "    # Converts string values to numerical values.\n",
    "    def IDToNum(self, the_dataset):\n",
    "        cust_indexer = StringIndexer(inputCol='customer_id',outputCol='customer_id_num')\n",
    "        prod_indexer = StringIndexer(inputCol='product_id', outputCol='product_id_num')\n",
    "        star_indexer = StringIndexer(inputCol='star_rating', outputCol='star_rating_num')\n",
    "\n",
    "        pipe = Pipeline(stages=[cust_indexer, prod_indexer, star_indexer])\n",
    "\n",
    "        return pipe.fit(the_dataset).transform(the_dataset)\n",
    "\n",
    "        \n",
    "    def insertUser(self, the_dataset):\n",
    "        temp_df = the_dataset.select(['customer_id', 'product_title', 'product_id', 'star_rating'])\n",
    "        user_id_rows = the_dataset.select(['customer_id']).collect()\n",
    "        user_ids = [int(customer_id[0].encode('ascii')) for customer_id in user_id_rows]\n",
    "        temp = user_ids[0]      # An ID that already exists in the data set.\n",
    "        while temp in user_ids:\n",
    "            temp = random.randrange(1, 100000)\n",
    "        self.id = str(temp)\n",
    "        \n",
    "\n",
    "        # Find out the product_id of the bought product and fetch the first product_id returned.\n",
    "        product_id = self.getProductID(temp_df, self.purchase.get('product'))\n",
    "        \n",
    "        # Add new user to data set.\n",
    "        new_row = spark.createDataFrame([(self.id, self.purchase.get('product'), product_id, self.purchase.get('rating'))])\n",
    "        # Append the new row.\n",
    "        \n",
    "        self.dataset = temp_df.union(new_row)\n",
    "\n",
    "        \n",
    "        self.dataset_num = self.IDToNum(self.dataset)\n",
    "        self.customer_id_num = self.dataset_num.select(['customer_id_num']).filter(self.dataset_num['customer_id'] == self.id).collect()[0][0]\n",
    "    \n",
    "    def trainModel(self, n_recommendations):\n",
    "        als = ALS(userCol='customer_id_num', itemCol='product_id_num', ratingCol='star_rating_num', \\\n",
    "                  implicitPrefs=True , coldStartStrategy=\"drop\")\n",
    "        self.recommendations = als.fit(self.dataset_num).recommendForAllUsers(n_recommendations)\n",
    "        \n",
    "    \n",
    "    def queryRecommendations(self):\n",
    "        recommendations_list = []\n",
    "        \n",
    "        # Index of new user.\n",
    "        idx_new_user = [product_id_num[0] for product_id_num in self.recommendations.select(['customer_id_num'])\\\n",
    "                        .collect()].index(self.customer_id_num)\n",
    "        # List of recommendations.\n",
    "        recommendations = [recommendation for recommendation in self.recommendations.select('recommendations')\\\n",
    "                           .filter(self.recommendations['customer_id_num'] == self.customer_id_num).collect()[0][0]]\n",
    "        \n",
    "        # Get title of every recommended product.\n",
    "        for index, recommendation in enumerate(recommendations):\n",
    "            recommendations_list.append(\\\n",
    "                                self.dataset_num.select(['product_title']).filter(self.dataset_num['product_id_num'] == recommendation[0]).collect()[0][0])\n",
    "\n",
    "        self.recommended_products = recommendations_list\n",
    "    \n",
    "    def getProductID(self, the_dataset, product):\n",
    "        return the_dataset.select(['product_id']).filter(the_dataset['product_title'] == product).collect()[0][0]\n",
    "    \n",
    "    def printRecommendations(self):\n",
    "        print(f\"Based on your purchase of {self.purchase.get('product')}, you might also like:\")\n",
    "        for number, recommendation in enumerate(self.recommended_products, 1):\n",
    "            print(f'{number}): {recommendation}')"
   ]
  },
  {
   "cell_type": "code",
   "execution_count": 19,
   "metadata": {},
   "outputs": [
    {
     "name": "stdout",
     "output_type": "stream",
     "text": [
      "Based on your purchase of Sentey Ls 4162, you might also like:\n",
      "1): eForCity Leather Case for Barnes and Noble Nook Color, Purple\n",
      "2): Zeimax (TM) Adapter Converter 8 Pin to 30pin for Apple Iphone 5, Ipod 5 Nano 7th Gen USA\n",
      "3): DBTech 175 Watt Portable Micro Power Inverter With USB Port - 12v AC to 110v DC Car Plug Converter For Your Ipod, iPad, iPhone, Tablet, PSP, DVD Players Laptops Netbooks And cellphones\n",
      "4): 6-Pack Mirror Screen Protector for Apple iPod Touch 4th Gen\n",
      "5): 2-Port USB Car Charger Adapter\n"
     ]
    }
   ],
   "source": [
    "new_customer = Customer()\n",
    "new_customer.buyProduct('Sentey Ls 4162', '4')\n",
    "new_customer.insertUser(reviews_enc)\n",
    "new_customer.trainModel(5)\n",
    "new_customer.queryRecommendations()\n",
    "new_customer.printRecommendations()\n"
   ]
  }
 ],
 "metadata": {
  "kernelspec": {
   "display_name": "Python 3.8.2 64-bit",
   "language": "python",
   "name": "python38264bitdae8a119ba324ae3bd0801b8c2c2b174"
  },
  "language_info": {
   "codemirror_mode": {
    "name": "ipython",
    "version": 3
   },
   "file_extension": ".py",
   "mimetype": "text/x-python",
   "name": "python",
   "nbconvert_exporter": "python",
   "pygments_lexer": "ipython3",
   "version": "3.8.2"
  }
 },
 "nbformat": 4,
 "nbformat_minor": 4
}

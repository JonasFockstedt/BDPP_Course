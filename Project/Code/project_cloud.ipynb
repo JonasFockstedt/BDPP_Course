{
 "cells": [
  {
   "cell_type": "markdown",
   "metadata": {},
   "source": [
    "### Invoke SparkContext"
   ]
  },
  {
   "cell_type": "code",
   "execution_count": 1,
   "metadata": {},
   "outputs": [
    {
     "data": {
      "text/html": [
       "\n",
       "        <div>\n",
       "            <p><b>SparkContext</b></p>\n",
       "\n",
       "            <p><a href=\"http://bdpp-project-cluster-m.us-central1-c.c.bdpp-276508.internal:4040\">Spark UI</a></p>\n",
       "\n",
       "            <dl>\n",
       "              <dt>Version</dt>\n",
       "                <dd><code>v2.3.4</code></dd>\n",
       "              <dt>Master</dt>\n",
       "                <dd><code>yarn</code></dd>\n",
       "              <dt>AppName</dt>\n",
       "                <dd><code>Spark project</code></dd>\n",
       "            </dl>\n",
       "        </div>\n",
       "        "
      ],
      "text/plain": [
       "<SparkContext master=yarn appName=Spark project>"
      ]
     },
     "execution_count": 1,
     "metadata": {},
     "output_type": "execute_result"
    }
   ],
   "source": [
    "from pyspark import SparkContext, SparkConf\n",
    "conf = SparkConf().setAppName('Spark project')\n",
    "sc = SparkContext(conf=conf)\n",
    "sc"
   ]
  },
  {
   "cell_type": "code",
   "execution_count": 2,
   "metadata": {},
   "outputs": [],
   "source": [
    "from pyspark.sql import SparkSession\n",
    "\n",
    "spark = SparkSession \\\n",
    "    .builder \\\n",
    "    .appName(\"Spark Project\") \\\n",
    "    .config(\"spark.some.config.option\", \"some-value\") \\\n",
    "    .getOrCreate()"
   ]
  },
  {
   "cell_type": "code",
   "execution_count": 3,
   "metadata": {},
   "outputs": [
    {
     "data": {
      "text/html": [
       "\n",
       "        <div>\n",
       "            <p><b>SparkContext</b></p>\n",
       "\n",
       "            <p><a href=\"http://bdpp-project-cluster-m.us-central1-c.c.bdpp-276508.internal:4040\">Spark UI</a></p>\n",
       "\n",
       "            <dl>\n",
       "              <dt>Version</dt>\n",
       "                <dd><code>v2.3.4</code></dd>\n",
       "              <dt>Master</dt>\n",
       "                <dd><code>yarn</code></dd>\n",
       "              <dt>AppName</dt>\n",
       "                <dd><code>Spark project</code></dd>\n",
       "            </dl>\n",
       "        </div>\n",
       "        "
      ],
      "text/plain": [
       "<SparkContext master=yarn appName=Spark project>"
      ]
     },
     "execution_count": 3,
     "metadata": {},
     "output_type": "execute_result"
    }
   ],
   "source": [
    "spark.sparkContext"
   ]
  },
  {
   "cell_type": "markdown",
   "metadata": {},
   "source": [
    "### Load data"
   ]
  },
  {
   "cell_type": "code",
   "execution_count": 4,
   "metadata": {},
   "outputs": [],
   "source": [
    "from pyspark import SQLContext\n",
    "reviews = spark.read.options(header=True).csv(\"gs://bdpp-project-bucket/amazon_reviews_us_Mobile_Electronics_v1_00.tsv\", sep=\"\\t\")"
   ]
  },
  {
   "cell_type": "markdown",
   "metadata": {},
   "source": [
    "### See structure of data"
   ]
  },
  {
   "cell_type": "code",
   "execution_count": 5,
   "metadata": {},
   "outputs": [
    {
     "name": "stdout",
     "output_type": "stream",
     "text": [
      "root\n",
      " |-- marketplace: string (nullable = true)\n",
      " |-- customer_id: string (nullable = true)\n",
      " |-- review_id: string (nullable = true)\n",
      " |-- product_id: string (nullable = true)\n",
      " |-- product_parent: string (nullable = true)\n",
      " |-- product_title: string (nullable = true)\n",
      " |-- product_category: string (nullable = true)\n",
      " |-- star_rating: string (nullable = true)\n",
      " |-- helpful_votes: string (nullable = true)\n",
      " |-- total_votes: string (nullable = true)\n",
      " |-- vine: string (nullable = true)\n",
      " |-- verified_purchase: string (nullable = true)\n",
      " |-- review_headline: string (nullable = true)\n",
      " |-- review_body: string (nullable = true)\n",
      " |-- review_date: string (nullable = true)\n",
      "\n"
     ]
    }
   ],
   "source": [
    "reviews.printSchema()"
   ]
  },
  {
   "cell_type": "markdown",
   "metadata": {},
   "source": [
    "### Display data"
   ]
  },
  {
   "cell_type": "code",
   "execution_count": 6,
   "metadata": {},
   "outputs": [
    {
     "name": "stdout",
     "output_type": "stream",
     "text": [
      "+-----------+-----------+--------------+----------+--------------+--------------------+------------------+-----------+-------------+-----------+----+-----------------+--------------------+--------------------+-----------+\n",
      "|marketplace|customer_id|     review_id|product_id|product_parent|       product_title|  product_category|star_rating|helpful_votes|total_votes|vine|verified_purchase|     review_headline|         review_body|review_date|\n",
      "+-----------+-----------+--------------+----------+--------------+--------------------+------------------+-----------+-------------+-----------+----+-----------------+--------------------+--------------------+-----------+\n",
      "|         US|   20422322| R8MEA6IGAHO0B|B00MC4CED8|     217304173|BlackVue DR600GW-PMP|Mobile_Electronics|          5|            0|          0|   N|                Y|         Very Happy!|As advertised. Ev...| 2015-08-31|\n",
      "|         US|   40835037|R31LOQ8JGLPRLK|B00OQMFG1Q|     137313254|GENSSI GSM / GPS ...|Mobile_Electronics|          5|            0|          1|   N|                Y|           five star|          it's great| 2015-08-31|\n",
      "|         US|   51469641|R2Y0MM9YE6OP3P|B00QERR5CY|      82850235|iXCC Multi pack L...|Mobile_Electronics|          5|            0|          0|   N|                Y|        great cables|These work great ...| 2015-08-31|\n",
      "|         US|    4332923| RRB9C05HDOD4O|B00QUFTPV4|     221169481|abcGoodefg® FBI C...|Mobile_Electronics|          4|            0|          0|   N|                Y|Work very well bu...|Work very well bu...| 2015-08-31|\n",
      "|         US|   44855305|R26I2RI1GFV8QG|B0067XVNTG|     563475445|Generic Car Dashb...|Mobile_Electronics|          2|            0|          0|   N|                Y|Cameras has batte...|Be careful with t...| 2015-08-31|\n",
      "|         US|    7846966| RY8DDL22YG4R5|B00KA6CCVY|     713636156|Aweek® Air Acoust...|Mobile_Electronics|          3|            0|          1|   N|                Y|It appears to be ...|It appears to be ...| 2015-08-31|\n",
      "|         US|   21299354|R2AT2426ZHFUHH|B00MJCDPM2|     754171872|Sentey LS-4460 B-...|Mobile_Electronics|          3|            0|          1|   N|                Y|Didn't love the f...|First one arrived...| 2015-08-31|\n",
      "|         US|   28902968|R3RRXU2R23NMQ9|B00ET5AWBY|     508373185|iPad Car Headrest...|Mobile_Electronics|          5|            0|          0|   N|                Y|          Five Stars|Worked great for ...| 2015-08-31|\n",
      "|         US|    2074438|R250PR8VJUZ62F|B00Z9K379C|     759387370|ANWING Waterproof...|Mobile_Electronics|          4|            0|          2|   N|                Y|          Four Stars|this is a very go...| 2015-08-31|\n",
      "|         US|   48701722| RBEMQ29WJBHYG|B00YO3UYXW|     913911909|Jensen MCR-100 Ca...|Mobile_Electronics|          5|          164|        168|   N|                Y|  I LOVE my recorder|I LOVE my recorde...| 2015-08-31|\n",
      "|         US|    2990247|R19VVIUT4BZCMT|B011W26BU2|     938399424|Bluetooth Speaker...|Mobile_Electronics|          5|            2|          2|   N|                Y|          Five Stars|Great sound great...| 2015-08-31|\n",
      "|         US|   52946117|R1DT8JJUQHUKUL|B00H8PI78C|     661515294|15Pcs DC 5V 85dB ...|Mobile_Electronics|          3|            0|          1|   N|                Y|More of a beeper ...|If what you want ...| 2015-08-31|\n",
      "|         US|   49359994| RLIL6S9OGM3YA|B00M49C6MK|      91176851|      Sentey Ls 4162|Mobile_Electronics|          5|            0|          0|   N|                Y|          Five Stars|             Love it| 2015-08-31|\n",
      "|         US|    4158732|R34EZZ68VYPHO0|B011Q291PK|     891142775|IcePACK 8 Can Ins...|Mobile_Electronics|          1|            1|          1|   N|                Y|            One Star|               Sucks| 2015-08-31|\n",
      "|         US|   18944032|R3TZNSOXS13SIG|B00W6OLUGQ|     577462547|DTK® AMI MDI MMI ...|Mobile_Electronics|          2|            1|          3|   N|                Y|           Two Stars|u need to plug in...| 2015-08-31|\n",
      "|         US|     279606|R12UBZT87UX3AP|B008MY1F8W|     680240984|INPA K+CAN K+DCAN...|Mobile_Electronics|          5|            2|          2|   N|                Y|          Five Stars|Worked with MHD F...| 2015-08-31|\n",
      "|         US|   10947966| R5KCRE927NYMU|B00KW3XNUE|     219920841|Magicfly Wireless...|Mobile_Electronics|          2|            0|          0|   N|                N|Battery Cover Poo...|Just arrived,  re...| 2015-08-31|\n",
      "|         US|   18387442| RT12RQFU0V2AX|B009NGR0AK|     254898339|Humminbird XNT 9 ...|Mobile_Electronics|          5|            1|          1|   N|                Y|        Works great.|I bought this uni...| 2015-08-31|\n",
      "|         US|   48950322|R2K0YQPV5W2SJ1|B011W26BU2|     938399424|Bluetooth Speaker...|Mobile_Electronics|          4|            2|          2|   N|                Y|A Lot of Sound In...|I am giving the s...| 2015-08-31|\n",
      "|         US|   48148197|R104MY31OKNGXH|B00PAP68WO|     366592530|Foxnovo 3.7V 380m...|Mobile_Electronics|          5|            0|          0|   N|                Y|          Five Stars|Met my applicatio...| 2015-08-31|\n",
      "+-----------+-----------+--------------+----------+--------------+--------------------+------------------+-----------+-------------+-----------+----+-----------------+--------------------+--------------------+-----------+\n",
      "only showing top 20 rows\n",
      "\n"
     ]
    }
   ],
   "source": [
    "from pyspark.sql.functions import *\n",
    "\n",
    "reviews.show()"
   ]
  },
  {
   "cell_type": "markdown",
   "metadata": {},
   "source": [
    "### Show distribution between ratings and how many reviews each customer has written"
   ]
  },
  {
   "cell_type": "code",
   "execution_count": 7,
   "metadata": {},
   "outputs": [
    {
     "name": "stdout",
     "output_type": "stream",
     "text": [
      "+-----------+-----+\n",
      "|star_rating|count|\n",
      "+-----------+-----+\n",
      "|          5|52255|\n",
      "|          4|18088|\n",
      "|          1|17587|\n",
      "|          3| 9734|\n",
      "|          2| 7311|\n",
      "+-----------+-----+\n",
      "\n",
      "+-----------+-----+\n",
      "|customer_id|count|\n",
      "+-----------+-----+\n",
      "|   15127646|   25|\n",
      "|   29514513|   21|\n",
      "|   12259799|   18|\n",
      "|   43856165|   10|\n",
      "|   52460215|   10|\n",
      "|   19803990|   10|\n",
      "|   34408569|   10|\n",
      "|   53037408|    9|\n",
      "|   49675502|    9|\n",
      "|   45070473|    8|\n",
      "|   53090839|    8|\n",
      "|   50027179|    8|\n",
      "|   51666042|    8|\n",
      "|   32038204|    8|\n",
      "|   38773014|    7|\n",
      "|    7394955|    7|\n",
      "|   17957446|    7|\n",
      "|   51346302|    7|\n",
      "|   34645354|    7|\n",
      "|   44834233|    7|\n",
      "+-----------+-----+\n",
      "only showing top 20 rows\n",
      "\n"
     ]
    }
   ],
   "source": [
    "reviews.groupBy('star_rating').count().orderBy(desc('count')).show()\n",
    "reviews.groupBy('customer_id').count().orderBy(desc('count')).show()"
   ]
  },
  {
   "cell_type": "markdown",
   "metadata": {},
   "source": [
    "### See that there are more product ID's than product titles. ID should therefore be more reliable than title"
   ]
  },
  {
   "cell_type": "code",
   "execution_count": 8,
   "metadata": {},
   "outputs": [
    {
     "data": {
      "text/plain": [
       "24770"
      ]
     },
     "execution_count": 8,
     "metadata": {},
     "output_type": "execute_result"
    }
   ],
   "source": [
    "reviews.select('product_title').distinct().count()"
   ]
  },
  {
   "cell_type": "code",
   "execution_count": 9,
   "metadata": {},
   "outputs": [
    {
     "data": {
      "text/plain": [
       "25801"
      ]
     },
     "execution_count": 9,
     "metadata": {},
     "output_type": "execute_result"
    }
   ],
   "source": [
    "reviews.select('product_id').distinct().count()"
   ]
  },
  {
   "cell_type": "markdown",
   "metadata": {},
   "source": [
    "### Drop attributes of no importance"
   ]
  },
  {
   "cell_type": "code",
   "execution_count": 10,
   "metadata": {},
   "outputs": [
    {
     "name": "stdout",
     "output_type": "stream",
     "text": [
      "+-----------+--------------+----------+--------------------+-----------+-----------------+\n",
      "|customer_id|     review_id|product_id|       product_title|star_rating|verified_purchase|\n",
      "+-----------+--------------+----------+--------------------+-----------+-----------------+\n",
      "|   20422322| R8MEA6IGAHO0B|B00MC4CED8|BlackVue DR600GW-PMP|          5|                Y|\n",
      "|   40835037|R31LOQ8JGLPRLK|B00OQMFG1Q|GENSSI GSM / GPS ...|          5|                Y|\n",
      "|   51469641|R2Y0MM9YE6OP3P|B00QERR5CY|iXCC Multi pack L...|          5|                Y|\n",
      "|    4332923| RRB9C05HDOD4O|B00QUFTPV4|abcGoodefg® FBI C...|          4|                Y|\n",
      "|   44855305|R26I2RI1GFV8QG|B0067XVNTG|Generic Car Dashb...|          2|                Y|\n",
      "|    7846966| RY8DDL22YG4R5|B00KA6CCVY|Aweek® Air Acoust...|          3|                Y|\n",
      "|   21299354|R2AT2426ZHFUHH|B00MJCDPM2|Sentey LS-4460 B-...|          3|                Y|\n",
      "|   28902968|R3RRXU2R23NMQ9|B00ET5AWBY|iPad Car Headrest...|          5|                Y|\n",
      "|    2074438|R250PR8VJUZ62F|B00Z9K379C|ANWING Waterproof...|          4|                Y|\n",
      "|   48701722| RBEMQ29WJBHYG|B00YO3UYXW|Jensen MCR-100 Ca...|          5|                Y|\n",
      "|    2990247|R19VVIUT4BZCMT|B011W26BU2|Bluetooth Speaker...|          5|                Y|\n",
      "|   52946117|R1DT8JJUQHUKUL|B00H8PI78C|15Pcs DC 5V 85dB ...|          3|                Y|\n",
      "|   49359994| RLIL6S9OGM3YA|B00M49C6MK|      Sentey Ls 4162|          5|                Y|\n",
      "|    4158732|R34EZZ68VYPHO0|B011Q291PK|IcePACK 8 Can Ins...|          1|                Y|\n",
      "|   18944032|R3TZNSOXS13SIG|B00W6OLUGQ|DTK® AMI MDI MMI ...|          2|                Y|\n",
      "|     279606|R12UBZT87UX3AP|B008MY1F8W|INPA K+CAN K+DCAN...|          5|                Y|\n",
      "|   10947966| R5KCRE927NYMU|B00KW3XNUE|Magicfly Wireless...|          2|                N|\n",
      "|   18387442| RT12RQFU0V2AX|B009NGR0AK|Humminbird XNT 9 ...|          5|                Y|\n",
      "|   48950322|R2K0YQPV5W2SJ1|B011W26BU2|Bluetooth Speaker...|          4|                Y|\n",
      "|   48148197|R104MY31OKNGXH|B00PAP68WO|Foxnovo 3.7V 380m...|          5|                Y|\n",
      "+-----------+--------------+----------+--------------------+-----------+-----------------+\n",
      "only showing top 20 rows\n",
      "\n"
     ]
    }
   ],
   "source": [
    "reviews = reviews.select(['customer_id', 'review_id', 'product_id', 'product_title', 'star_rating', 'verified_purchase'])\n",
    "reviews.show()"
   ]
  },
  {
   "cell_type": "markdown",
   "metadata": {},
   "source": [
    "### Drop purchases that are not verified"
   ]
  },
  {
   "cell_type": "code",
   "execution_count": 11,
   "metadata": {},
   "outputs": [],
   "source": [
    "reviews = reviews.filter(reviews['verified_purchase'] == 'Y')"
   ]
  },
  {
   "cell_type": "markdown",
   "metadata": {},
   "source": [
    "### See if there are any missing values"
   ]
  },
  {
   "cell_type": "code",
   "execution_count": 12,
   "metadata": {},
   "outputs": [
    {
     "name": "stdout",
     "output_type": "stream",
     "text": [
      "+-----------+---------+----------+-------------+-----------+-----------------+\n",
      "|customer_id|review_id|product_id|product_title|star_rating|verified_purchase|\n",
      "+-----------+---------+----------+-------------+-----------+-----------------+\n",
      "|          0|        0|         0|            0|          0|                0|\n",
      "+-----------+---------+----------+-------------+-----------+-----------------+\n",
      "\n"
     ]
    }
   ],
   "source": [
    "reviews.select([count(when(col(column).isNull(), 1)).alias(column) for column in reviews.columns]).show()"
   ]
  },
  {
   "cell_type": "markdown",
   "metadata": {},
   "source": [
    "### String indexing with pipelines"
   ]
  },
  {
   "cell_type": "code",
   "execution_count": 13,
   "metadata": {},
   "outputs": [
    {
     "name": "stdout",
     "output_type": "stream",
     "text": [
      "+-----------+--------------+----------+--------------------+-----------+-----------------+--------------+---------------+---------------+\n",
      "|customer_id|     review_id|product_id|       product_title|star_rating|verified_purchase|product_id_num|customer_id_num|star_rating_num|\n",
      "+-----------+--------------+----------+--------------------+-----------+-----------------+--------------+---------------+---------------+\n",
      "|   20422322| R8MEA6IGAHO0B|B00MC4CED8|BlackVue DR600GW-PMP|          5|                Y|        2819.0|        74624.0|            0.0|\n",
      "|   40835037|R31LOQ8JGLPRLK|B00OQMFG1Q|GENSSI GSM / GPS ...|          5|                Y|       12526.0|        32056.0|            0.0|\n",
      "|   51469641|R2Y0MM9YE6OP3P|B00QERR5CY|iXCC Multi pack L...|          5|                Y|          12.0|        23246.0|            0.0|\n",
      "|    4332923| RRB9C05HDOD4O|B00QUFTPV4|abcGoodefg® FBI C...|          4|                Y|        3110.0|        19854.0|            1.0|\n",
      "|   44855305|R26I2RI1GFV8QG|B0067XVNTG|Generic Car Dashb...|          2|                Y|           5.0|          153.0|            4.0|\n",
      "|    7846966| RY8DDL22YG4R5|B00KA6CCVY|Aweek® Air Acoust...|          3|                Y|         961.0|        29243.0|            3.0|\n",
      "|   21299354|R2AT2426ZHFUHH|B00MJCDPM2|Sentey LS-4460 B-...|          3|                Y|          81.0|        18760.0|            3.0|\n",
      "|   28902968|R3RRXU2R23NMQ9|B00ET5AWBY|iPad Car Headrest...|          5|                Y|        1037.0|        47830.0|            0.0|\n",
      "|    2074438|R250PR8VJUZ62F|B00Z9K379C|ANWING Waterproof...|          4|                Y|       21230.0|        53289.0|            1.0|\n",
      "|   48701722| RBEMQ29WJBHYG|B00YO3UYXW|Jensen MCR-100 Ca...|          5|                Y|        3804.0|         3150.0|            0.0|\n",
      "|    2990247|R19VVIUT4BZCMT|B011W26BU2|Bluetooth Speaker...|          5|                Y|        1310.0|        52090.0|            0.0|\n",
      "|   52946117|R1DT8JJUQHUKUL|B00H8PI78C|15Pcs DC 5V 85dB ...|          3|                Y|        2939.0|        59634.0|            3.0|\n",
      "|   49359994| RLIL6S9OGM3YA|B00M49C6MK|      Sentey Ls 4162|          5|                Y|         152.0|        26120.0|            0.0|\n",
      "|    4158732|R34EZZ68VYPHO0|B011Q291PK|IcePACK 8 Can Ins...|          1|                Y|       11492.0|        60022.0|            2.0|\n",
      "|   18944032|R3TZNSOXS13SIG|B00W6OLUGQ|DTK® AMI MDI MMI ...|          2|                Y|       10590.0|        66049.0|            4.0|\n",
      "|     279606|R12UBZT87UX3AP|B008MY1F8W|INPA K+CAN K+DCAN...|          5|                Y|         222.0|        63856.0|            0.0|\n",
      "|   18387442| RT12RQFU0V2AX|B009NGR0AK|Humminbird XNT 9 ...|          5|                Y|        4847.0|        31337.0|            0.0|\n",
      "|   48950322|R2K0YQPV5W2SJ1|B011W26BU2|Bluetooth Speaker...|          4|                Y|        1310.0|        30903.0|            1.0|\n",
      "|   48148197|R104MY31OKNGXH|B00PAP68WO|Foxnovo 3.7V 380m...|          5|                Y|       19237.0|        82259.0|            0.0|\n",
      "|   24863069|R32MW6D6CXKCFW|B00LTCIT7Y|Astatic (302-1000...|          2|                Y|        1379.0|        59465.0|            4.0|\n",
      "+-----------+--------------+----------+--------------------+-----------+-----------------+--------------+---------------+---------------+\n",
      "only showing top 20 rows\n",
      "\n"
     ]
    }
   ],
   "source": [
    "from pyspark.ml.feature import StringIndexer\n",
    "from pyspark.ml import Pipeline\n",
    "\n",
    "# String index product_id.\n",
    "prod_indexer = StringIndexer(inputCol='product_id', outputCol='product_id_num')\n",
    "\n",
    "# String index customer_id.\n",
    "cust_indexer = StringIndexer(inputCol='customer_id', outputCol='customer_id_num')\n",
    "\n",
    "# String index star_rating.\n",
    "star_indexer = StringIndexer(inputCol='star_rating', outputCol='star_rating_num')\n",
    "\n",
    "\n",
    "pipe = Pipeline(stages = [prod_indexer, cust_indexer, star_indexer])\n",
    "\n",
    "reviews_enc = pipe.fit(reviews).transform(reviews)\n",
    "reviews_enc.show()"
   ]
  },
  {
   "cell_type": "code",
   "execution_count": 14,
   "metadata": {},
   "outputs": [
    {
     "name": "stdout",
     "output_type": "stream",
     "text": [
      "+---------------+--------------+---------------+\n",
      "|customer_id_num|product_id_num|star_rating_num|\n",
      "+---------------+--------------+---------------+\n",
      "|        74624.0|        2819.0|            0.0|\n",
      "|        32056.0|       12526.0|            0.0|\n",
      "|        23246.0|          12.0|            0.0|\n",
      "|        19854.0|        3110.0|            1.0|\n",
      "|          153.0|           5.0|            4.0|\n",
      "|        29243.0|         961.0|            3.0|\n",
      "|        18760.0|          81.0|            3.0|\n",
      "|        47830.0|        1037.0|            0.0|\n",
      "|        53289.0|       21230.0|            1.0|\n",
      "|         3150.0|        3804.0|            0.0|\n",
      "|        52090.0|        1310.0|            0.0|\n",
      "|        59634.0|        2939.0|            3.0|\n",
      "|        26120.0|         152.0|            0.0|\n",
      "|        60022.0|       11492.0|            2.0|\n",
      "|        66049.0|       10590.0|            4.0|\n",
      "|        63856.0|         222.0|            0.0|\n",
      "|        31337.0|        4847.0|            0.0|\n",
      "|        30903.0|        1310.0|            1.0|\n",
      "|        82259.0|       19237.0|            0.0|\n",
      "|        59465.0|        1379.0|            4.0|\n",
      "+---------------+--------------+---------------+\n",
      "only showing top 20 rows\n",
      "\n"
     ]
    }
   ],
   "source": [
    "reviews_enc_only = reviews_enc.select('customer_id_num', 'product_id_num', 'star_rating_num')\n",
    "reviews_enc_only.show()"
   ]
  },
  {
   "cell_type": "markdown",
   "metadata": {},
   "source": [
    "### Upload the dataset to the cloud"
   ]
  },
  {
   "cell_type": "code",
   "execution_count": 15,
   "metadata": {},
   "outputs": [],
   "source": [
    "reviews_enc_only.coalesce(1).write.options(header=True).csv(\"gs://bdpp-project-bucket/outputs/reviews_encoded_only.csv\")"
   ]
  },
  {
   "cell_type": "markdown",
   "metadata": {},
   "source": [
    "### Train ALS model"
   ]
  },
  {
   "cell_type": "code",
   "execution_count": 16,
   "metadata": {},
   "outputs": [],
   "source": [
    "from pyspark.ml.recommendation import ALS\n",
    "# Split into train and test data.\n",
    "training, test = reviews_enc.randomSplit([0.8, 0.2])\n",
    "\n",
    "als = ALS(userCol='customer_id_num', itemCol='product_id_num', ratingCol='star_rating_num', \\\n",
    "          implicitPrefs=True , coldStartStrategy=\"drop\", nonnegative=True)\n",
    "trained_model = als.fit(training)"
   ]
  },
  {
   "cell_type": "markdown",
   "metadata": {},
   "source": [
    "### Test ALS model"
   ]
  },
  {
   "cell_type": "code",
   "execution_count": 17,
   "metadata": {},
   "outputs": [
    {
     "name": "stdout",
     "output_type": "stream",
     "text": [
      "RMSE on test data: 1.56042009351\n"
     ]
    }
   ],
   "source": [
    "from pyspark.ml.evaluation import RegressionEvaluator\n",
    "predictions = trained_model.transform(test)\n",
    "\n",
    "evaluator = RegressionEvaluator(metricName='rmse', labelCol='star_rating_num', predictionCol='prediction')\n",
    "rmse = evaluator.evaluate(predictions)\n",
    "print('RMSE on test data: ' + str(rmse))"
   ]
  },
  {
   "cell_type": "markdown",
   "metadata": {},
   "source": [
    "### Write RMSE result to GCP bucket"
   ]
  },
  {
   "cell_type": "code",
   "execution_count": null,
   "metadata": {},
   "outputs": [],
   "source": [
    "from google.cloud import storage\n",
    "\n",
    "client = storage.Client()\n",
    "bucket = client.bucket('bdpp-project-bucket')\n",
    "\n",
    "blob = bucket.get_blob('outputs/rmse.txt')\n",
    "\n",
    "blob.upload_from_string('RMSE on test data: ' + str(rmse))"
   ]
  },
  {
   "cell_type": "markdown",
   "metadata": {},
   "source": [
    "### Cross-validation"
   ]
  },
  {
   "cell_type": "code",
   "execution_count": null,
   "metadata": {},
   "outputs": [
    {
     "name": "stdout",
     "output_type": "stream",
     "text": [
      "RMSE score from cross-validation: 1.56043494982\n"
     ]
    }
   ],
   "source": [
    "from pyspark.ml.tuning import CrossValidator, ParamGridBuilder\n",
    "\n",
    "params = ParamGridBuilder().addGrid(als.maxIter, [5, 10, 15])\\\n",
    "                            .addGrid(als.regParam, [0.001, 0.01, 0.1])\\\n",
    "                            .addGrid(als.rank, [1, 5, 10, 20]).build()\n",
    "cv = CrossValidator(estimator=als, estimatorParamMaps=params, evaluator=evaluator, numFolds=4)\n",
    "cv_model = cv.fit(training)\n",
    "predictions = cv_model.transform(test)\n",
    "rmse_cross = evaluator.evaluate(predictions)\n",
    "\n",
    "print('RMSE score from cross-validation: ' + str(rmse_cross))"
   ]
  },
  {
   "cell_type": "markdown",
   "metadata": {},
   "source": [
    "### Extract the best hyperparameters from the cross-validation"
   ]
  },
  {
   "cell_type": "code",
   "execution_count": 28,
   "metadata": {},
   "outputs": [],
   "source": [
    "import numpy as np\n",
    "\n",
    "best_parameters = cv_model.getEstimatorParamMaps()[np.argmax(cv_model.avgMetrics)]\n",
    "\n",
    "best_maxIter = best_parameters.items()[0][1]\n",
    "best_regParam = best_parameters.items()[1][1]\n",
    "best_rank = best_parameters.items()[2][1]"
   ]
  },
  {
   "cell_type": "markdown",
   "metadata": {},
   "source": [
    "### Write cross-validation score and best hyperparameters to GCP bucket"
   ]
  },
  {
   "cell_type": "code",
   "execution_count": 30,
   "metadata": {},
   "outputs": [],
   "source": [
    "cross_rmse_blob = bucket.get_blob('outputs/rmse_cross.txt')\n",
    "cross_rmse_blob.upload_from_string('RMSE score from cross-validation: ' + str(rmse) + '\\n\\nBest parameters: \\n' \\\n",
    "                                   + 'Best number of max iterations: ' + str(best_maxIter) + '\\nBest regularization parameter: ' + str(best_regParam)\\\n",
    "                                   + '\\nBest rank value: ' + str(best_rank))"
   ]
  },
  {
   "cell_type": "markdown",
   "metadata": {},
   "source": [
    "### Upload to the cloud the predictions vs actual values"
   ]
  },
  {
   "cell_type": "code",
   "execution_count": null,
   "metadata": {},
   "outputs": [],
   "source": [
    "predictions.select('customer_id', 'product_title', 'star_rating', 'star_rating_num', 'prediction').coalesce(1).write.options(header=True).csv(\"gs://bdpp-project-bucket/outputs/predictions.csv\")"
   ]
  },
  {
   "cell_type": "markdown",
   "metadata": {},
   "source": [
    "### Class customer which can add a new user to the data set and make recommendations for that customer."
   ]
  },
  {
   "cell_type": "code",
   "execution_count": null,
   "metadata": {},
   "outputs": [],
   "source": [
    "import random\n",
    "\n",
    "class Customer():\n",
    "    def __init__(self):\n",
    "        self.id = None\n",
    "        self.purchase = {'product': None, 'rating': None}\n",
    "        self.recommendations = None\n",
    "        self.recommended_products = None\n",
    "        self.customer_id_num = None\n",
    "        self.dataset = None\n",
    "        self.dataset_num = None\n",
    "        \n",
    "    def buyProduct(self, product, rating):\n",
    "        self.purchase.update({'product': product, 'rating': rating})\n",
    "        \n",
    "    \n",
    "    def IDToNum(self, the_dataset):\n",
    "        cust_indexer = StringIndexer(inputCol='customer_id',outputCol='customer_id_num')\n",
    "        prod_indexer = StringIndexer(inputCol='product_id', outputCol='product_id_num')\n",
    "        star_indexer = StringIndexer(inputCol='star_rating', outputCol='star_rating_num')\n",
    "\n",
    "        pipe = Pipeline(stages=[cust_indexer, prod_indexer, star_indexer])\n",
    "\n",
    "        return pipe.fit(the_dataset).transform(the_dataset)\n",
    "\n",
    "        \n",
    "    def insertUser(self, the_dataset):\n",
    "        temp_df = the_dataset.select(['customer_id', 'product_title', 'product_id', 'star_rating'])\n",
    "        user_id_rows = the_dataset.select(['customer_id']).collect()\n",
    "        user_ids = [int(customer_id[0].encode('ascii')) for customer_id in user_id_rows]\n",
    "        temp = user_ids[0]      # An ID that already exists in the data set.\n",
    "        while temp in user_ids:\n",
    "            temp = random.randrange(1, 100000)\n",
    "        self.id = str(temp)\n",
    "\n",
    "        # Find out the product_id of the bought product and fetch the first product_id returned.\n",
    "        product_id = self.getProductID(temp_df, self.purchase.get('product'))\n",
    "        # Add new user to data set.\n",
    "        new_row = spark.createDataFrame([(self.id, self.purchase.get('product'), product_id, self.purchase.get('rating'))])\n",
    "        # Append the new row.\n",
    "        self.dataset = temp_df.union(new_row)\n",
    "\n",
    "        self.dataset_num = self.IDToNum(self.dataset)\n",
    "        \n",
    "        self.customer_id_num = self.dataset_num.select(['customer_id_num']).filter(self.dataset_num['customer_id'] == self.id).collect()[0][0]\n",
    "    \n",
    "    def trainModel(self, n_recommendations):\n",
    "        als = ALS(maxIter = best_maxIter, regParam = best_regParam, rank = best_rank,\\\n",
    "                  userCol='customer_id_num', itemCol='product_id_num', ratingCol='star_rating_num', \\\n",
    "                  implicitPrefs=True , coldStartStrategy=\"drop\", nonnegative=True)\n",
    "        self.recommendations = als.fit(self.dataset_num).recommendForAllUsers(n_recommendations)\n",
    "        \n",
    "    \n",
    "    def queryRecommendations(self):\n",
    "        recommendations_list = []\n",
    "        \n",
    "        # Index of new user.\n",
    "        idx_new_user = [product_id_num[0] for product_id_num in self.recommendations.select(['customer_id_num'])\\\n",
    "                        .collect()].index(self.customer_id_num)\n",
    "        recommendations = [recommendation for recommendation in self.recommendations.select('recommendations')\\\n",
    "                           .filter(self.recommendations['customer_id_num'] == self.customer_id_num).collect()[0][0]]\n",
    "        \n",
    "        # Get title of every recommended product.\n",
    "        for index, recommendation in enumerate(recommendations):\n",
    "            recommendations_list.append(\\\n",
    "                                self.dataset_num.select(['product_title']).filter(self.dataset_num['product_id_num'] == recommendation[0]).collect()[0][0]\\\n",
    "                                       .encode('ascii'))\n",
    "\n",
    "        self.recommended_products = recommendations_list\n",
    "    \n",
    "    def getProductID(self, the_dataset, product):\n",
    "        return the_dataset.select(['product_id']).filter(the_dataset['product_title'] == product).collect()[0][0]\n",
    "    \n",
    "    def printRecommendations(self):\n",
    "        string_to_print = 'Based on your purchase of ' + self.purchase.get('product') + ', you might also like:\\n'\n",
    "        print('Based on your purchase of ' + self.purchase.get('product') + ', you might also like:')\n",
    "        for number, recommendation in enumerate(self.recommended_products, 1):\n",
    "            string_to_print += (str(number) + '): ' + recommendation + '\\n')\n",
    "            print(str(number) + '): ' + recommendation)\n",
    "        \n",
    "        # Send output to the GCP bucket.\n",
    "        final_blob = bucket.get_blob('outputs/recommendations.txt')\n",
    "        final_blob.upload_from_string(string_to_print)"
   ]
  },
  {
   "cell_type": "code",
   "execution_count": null,
   "metadata": {},
   "outputs": [
    {
     "name": "stdout",
     "output_type": "stream",
     "text": [
      "Based on your purchase of 2-Port USB Car Charger Adapter, you might also like:\n",
      "1): iXCC Lightning Cable 3ft, iPhone charger, for iPhone X, 8, 8 Plus, 7, 7 Plus, 6s, 6s Plus, 6, 6 Plus, SE 5s 5c 5, iPad Air 2 Pro, iPad mini 2 3 4, iPad 4th Gen [Apple MFi Certified](Black and White)\n",
      "2): New Trent Easypak 7000mAh Portable Triple USB Port External Battery Charger/Power Pack for Smartphones, Tablets and more (w/built-in USB cable)\n",
      "3): iXCC Multi pack Lightning cable\n",
      "4): Bluetooth Receiver, Breett Bluetooth 4.1 Receiver, Multipoint Connection Bluetooth Audio Music Receiver with 3.5mm AUX Port Hands Free Calling for Car Stereo/Home Stereo/Headphone et\n",
      "5): eForCity Leather Case for Barnes and Noble Nook / Nook Color, Black\n"
     ]
    }
   ],
   "source": [
    "new_customer = Customer()\n",
    "new_customer.buyProduct(product='2-Port USB Car Charger Adapter', rating='5')\n",
    "new_customer.insertUser(reviews_enc)\n",
    "new_customer.trainModel(5)\n",
    "new_customer.queryRecommendations()\n",
    "new_customer.printRecommendations()"
   ]
  }
 ],
 "metadata": {
  "kernelspec": {
   "display_name": "Python 2",
   "language": "python",
   "name": "python2"
  },
  "language_info": {
   "codemirror_mode": {
    "name": "ipython",
    "version": 2
   },
   "file_extension": ".py",
   "mimetype": "text/x-python",
   "name": "python",
   "nbconvert_exporter": "python",
   "pygments_lexer": "ipython2",
   "version": "2.7.14"
  }
 },
 "nbformat": 4,
 "nbformat_minor": 2
}
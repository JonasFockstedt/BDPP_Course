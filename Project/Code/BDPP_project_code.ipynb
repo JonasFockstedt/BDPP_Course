{
 "cells": [
  {
   "cell_type": "markdown",
   "metadata": {},
   "source": [
    "### Invoke SparkContext"
   ]
  },
  {
   "cell_type": "code",
   "execution_count": 1,
   "metadata": {},
   "outputs": [
    {
     "data": {
      "text/html": [
       "\n",
       "        <div>\n",
       "            <p><b>SparkContext</b></p>\n",
       "\n",
       "            <p><a href=\"http://XPS-15:4040\">Spark UI</a></p>\n",
       "\n",
       "            <dl>\n",
       "              <dt>Version</dt>\n",
       "                <dd><code>v3.0.0-preview2</code></dd>\n",
       "              <dt>Master</dt>\n",
       "                <dd><code>local[*]</code></dd>\n",
       "              <dt>AppName</dt>\n",
       "                <dd><code>Spark Lab1</code></dd>\n",
       "            </dl>\n",
       "        </div>\n",
       "        "
      ],
      "text/plain": [
       "<SparkContext master=local[*] appName=Spark Lab1>"
      ]
     },
     "execution_count": 1,
     "metadata": {},
     "output_type": "execute_result"
    }
   ],
   "source": [
    "import findspark\n",
    "findspark.init(\"C:/Users/Jonas/spark\")\n",
    "from pyspark import SparkContext, SparkConf\n",
    "conf = SparkConf().setAppName('Spark Lab1')\n",
    "sc = SparkContext(conf=conf)\n",
    "sc"
   ]
  },
  {
   "cell_type": "markdown",
   "metadata": {},
   "source": [
    "### SparkSession"
   ]
  },
  {
   "cell_type": "code",
   "execution_count": 2,
   "metadata": {},
   "outputs": [],
   "source": [
    "from pyspark.sql import SparkSession\n",
    "\n",
    "spark = SparkSession \\\n",
    "    .builder \\\n",
    "    .appName(\"Spark Project\") \\\n",
    "    .config(\"spark.some.config.option\", \"some-value\") \\\n",
    "    .getOrCreate()"
   ]
  },
  {
   "cell_type": "code",
   "execution_count": 3,
   "metadata": {},
   "outputs": [
    {
     "data": {
      "text/html": [
       "\n",
       "        <div>\n",
       "            <p><b>SparkContext</b></p>\n",
       "\n",
       "            <p><a href=\"http://XPS-15:4040\">Spark UI</a></p>\n",
       "\n",
       "            <dl>\n",
       "              <dt>Version</dt>\n",
       "                <dd><code>v3.0.0-preview2</code></dd>\n",
       "              <dt>Master</dt>\n",
       "                <dd><code>local[*]</code></dd>\n",
       "              <dt>AppName</dt>\n",
       "                <dd><code>Spark Lab1</code></dd>\n",
       "            </dl>\n",
       "        </div>\n",
       "        "
      ],
      "text/plain": [
       "<SparkContext master=local[*] appName=Spark Lab1>"
      ]
     },
     "execution_count": 3,
     "metadata": {},
     "output_type": "execute_result"
    }
   ],
   "source": [
    "spark.sparkContext"
   ]
  },
  {
   "cell_type": "markdown",
   "metadata": {},
   "source": [
    "### Load data"
   ]
  },
  {
   "cell_type": "code",
   "execution_count": 4,
   "metadata": {},
   "outputs": [],
   "source": [
    "from pyspark import SQLContext\n",
    "reviews = spark.read.options(header=True).csv(\"amazon_reviews_us_Mobile_Electronics_v1_00.tsv\", sep=\"\\t\")"
   ]
  },
  {
   "cell_type": "markdown",
   "metadata": {},
   "source": [
    "### See structure of data"
   ]
  },
  {
   "cell_type": "code",
   "execution_count": 5,
   "metadata": {},
   "outputs": [
    {
     "name": "stdout",
     "output_type": "stream",
     "text": [
      "root\n",
      " |-- marketplace: string (nullable = true)\n",
      " |-- customer_id: string (nullable = true)\n",
      " |-- review_id: string (nullable = true)\n",
      " |-- product_id: string (nullable = true)\n",
      " |-- product_parent: string (nullable = true)\n",
      " |-- product_title: string (nullable = true)\n",
      " |-- product_category: string (nullable = true)\n",
      " |-- star_rating: string (nullable = true)\n",
      " |-- helpful_votes: string (nullable = true)\n",
      " |-- total_votes: string (nullable = true)\n",
      " |-- vine: string (nullable = true)\n",
      " |-- verified_purchase: string (nullable = true)\n",
      " |-- review_headline: string (nullable = true)\n",
      " |-- review_body: string (nullable = true)\n",
      " |-- review_date: string (nullable = true)\n",
      "\n"
     ]
    }
   ],
   "source": [
    "reviews.printSchema()"
   ]
  },
  {
   "cell_type": "markdown",
   "metadata": {},
   "source": [
    "### Display data and show significant attributes"
   ]
  },
  {
   "cell_type": "code",
   "execution_count": 14,
   "metadata": {},
   "outputs": [
    {
     "name": "stdout",
     "output_type": "stream",
     "text": [
      "+-----------+--------------+----------+--------------+--------------------+-----------+-----------+-----------------+--------------------+--------------------+\n",
      "|customer_id|     review_id|product_id|product_parent|       product_title|star_rating|total_votes|verified_purchase|     review_headline|         review_body|\n",
      "+-----------+--------------+----------+--------------+--------------------+-----------+-----------+-----------------+--------------------+--------------------+\n",
      "|   20422322| R8MEA6IGAHO0B|B00MC4CED8|     217304173|BlackVue DR600GW-PMP|          5|          0|                Y|         Very Happy!|As advertised. Ev...|\n",
      "|   40835037|R31LOQ8JGLPRLK|B00OQMFG1Q|     137313254|GENSSI GSM / GPS ...|          5|          1|                Y|           five star|          it's great|\n",
      "|   51469641|R2Y0MM9YE6OP3P|B00QERR5CY|      82850235|iXCC Multi pack L...|          5|          0|                Y|        great cables|These work great ...|\n",
      "|    4332923| RRB9C05HDOD4O|B00QUFTPV4|     221169481|abcGoodefg® FBI C...|          4|          0|                Y|Work very well bu...|Work very well bu...|\n",
      "|   44855305|R26I2RI1GFV8QG|B0067XVNTG|     563475445|Generic Car Dashb...|          2|          0|                Y|Cameras has batte...|Be careful with t...|\n",
      "|    7846966| RY8DDL22YG4R5|B00KA6CCVY|     713636156|Aweek® Air Acoust...|          3|          1|                Y|It appears to be ...|It appears to be ...|\n",
      "|   21299354|R2AT2426ZHFUHH|B00MJCDPM2|     754171872|Sentey LS-4460 B-...|          3|          1|                Y|Didn't love the f...|First one arrived...|\n",
      "|   28902968|R3RRXU2R23NMQ9|B00ET5AWBY|     508373185|iPad Car Headrest...|          5|          0|                Y|          Five Stars|Worked great for ...|\n",
      "|    2074438|R250PR8VJUZ62F|B00Z9K379C|     759387370|ANWING Waterproof...|          4|          2|                Y|          Four Stars|this is a very go...|\n",
      "|   48701722| RBEMQ29WJBHYG|B00YO3UYXW|     913911909|Jensen MCR-100 Ca...|          5|        168|                Y|  I LOVE my recorder|I LOVE my recorde...|\n",
      "|    2990247|R19VVIUT4BZCMT|B011W26BU2|     938399424|Bluetooth Speaker...|          5|          2|                Y|          Five Stars|Great sound great...|\n",
      "|   52946117|R1DT8JJUQHUKUL|B00H8PI78C|     661515294|15Pcs DC 5V 85dB ...|          3|          1|                Y|More of a beeper ...|If what you want ...|\n",
      "|   49359994| RLIL6S9OGM3YA|B00M49C6MK|      91176851|      Sentey Ls 4162|          5|          0|                Y|          Five Stars|             Love it|\n",
      "|    4158732|R34EZZ68VYPHO0|B011Q291PK|     891142775|IcePACK 8 Can Ins...|          1|          1|                Y|            One Star|               Sucks|\n",
      "|   18944032|R3TZNSOXS13SIG|B00W6OLUGQ|     577462547|DTK® AMI MDI MMI ...|          2|          3|                Y|           Two Stars|u need to plug in...|\n",
      "|     279606|R12UBZT87UX3AP|B008MY1F8W|     680240984|INPA K+CAN K+DCAN...|          5|          2|                Y|          Five Stars|Worked with MHD F...|\n",
      "|   10947966| R5KCRE927NYMU|B00KW3XNUE|     219920841|Magicfly Wireless...|          2|          0|                N|Battery Cover Poo...|Just arrived,  re...|\n",
      "|   18387442| RT12RQFU0V2AX|B009NGR0AK|     254898339|Humminbird XNT 9 ...|          5|          1|                Y|        Works great.|I bought this uni...|\n",
      "|   48950322|R2K0YQPV5W2SJ1|B011W26BU2|     938399424|Bluetooth Speaker...|          4|          2|                Y|A Lot of Sound In...|I am giving the s...|\n",
      "|   48148197|R104MY31OKNGXH|B00PAP68WO|     366592530|Foxnovo 3.7V 380m...|          5|          0|                Y|          Five Stars|Met my applicatio...|\n",
      "+-----------+--------------+----------+--------------+--------------------+-----------+-----------+-----------------+--------------------+--------------------+\n",
      "only showing top 20 rows\n",
      "\n",
      "+-----------+-----+\n",
      "|star_rating|count|\n",
      "+-----------+-----+\n",
      "|          5|52255|\n",
      "|          4|18088|\n",
      "|          1|17587|\n",
      "|          3| 9734|\n",
      "|          2| 7311|\n",
      "+-----------+-----+\n",
      "\n",
      "+-----------+-----+\n",
      "|customer_id|count|\n",
      "+-----------+-----+\n",
      "|   15127646|   25|\n",
      "|   29514513|   21|\n",
      "|   12259799|   18|\n",
      "|   19803990|   10|\n",
      "|   43856165|   10|\n",
      "|   52460215|   10|\n",
      "|   34408569|   10|\n",
      "|   53037408|    9|\n",
      "|   49675502|    9|\n",
      "|   53090839|    8|\n",
      "|   51666042|    8|\n",
      "|   45070473|    8|\n",
      "|   50027179|    8|\n",
      "|   32038204|    8|\n",
      "|   17957446|    7|\n",
      "|   34645354|    7|\n",
      "|   11995502|    7|\n",
      "|   51346302|    7|\n",
      "|   44834233|    7|\n",
      "|   38773014|    7|\n",
      "+-----------+-----+\n",
      "only showing top 20 rows\n",
      "\n"
     ]
    }
   ],
   "source": [
    "from pyspark.sql.functions import *\n",
    "\n",
    "reviews.show()\n",
    "\n",
    "reviews.groupBy('star_rating').count().orderBy(desc('count')).show()\n",
    "\n",
    "reviews.groupBy('customer_id').count().orderBy(desc('count')).show()\n",
    "\n",
    "#reviews.select('product_id').distinct().count()"
   ]
  },
  {
   "cell_type": "markdown",
   "metadata": {},
   "source": [
    "### See that there are more product id's than product titles"
   ]
  },
  {
   "cell_type": "code",
   "execution_count": 17,
   "metadata": {},
   "outputs": [
    {
     "data": {
      "text/plain": [
       "24770"
      ]
     },
     "execution_count": 17,
     "metadata": {},
     "output_type": "execute_result"
    }
   ],
   "source": [
    "reviews.select('product_title').distinct().count()"
   ]
  },
  {
   "cell_type": "code",
   "execution_count": 18,
   "metadata": {},
   "outputs": [
    {
     "data": {
      "text/plain": [
       "25801"
      ]
     },
     "execution_count": 18,
     "metadata": {},
     "output_type": "execute_result"
    }
   ],
   "source": [
    "reviews.select('product_id').distinct().count()"
   ]
  },
  {
   "cell_type": "markdown",
   "metadata": {},
   "source": [
    "### Drop attributes of no importance"
   ]
  },
  {
   "cell_type": "code",
   "execution_count": 7,
   "metadata": {},
   "outputs": [
    {
     "name": "stdout",
     "output_type": "stream",
     "text": [
      "+-----------+--------------+----------+--------------+--------------------+-----------+-----------+-----------------+--------------------+--------------------+\n",
      "|customer_id|     review_id|product_id|product_parent|       product_title|star_rating|total_votes|verified_purchase|     review_headline|         review_body|\n",
      "+-----------+--------------+----------+--------------+--------------------+-----------+-----------+-----------------+--------------------+--------------------+\n",
      "|   20422322| R8MEA6IGAHO0B|B00MC4CED8|     217304173|BlackVue DR600GW-PMP|          5|          0|                Y|         Very Happy!|As advertised. Ev...|\n",
      "|   40835037|R31LOQ8JGLPRLK|B00OQMFG1Q|     137313254|GENSSI GSM / GPS ...|          5|          1|                Y|           five star|          it's great|\n",
      "|   51469641|R2Y0MM9YE6OP3P|B00QERR5CY|      82850235|iXCC Multi pack L...|          5|          0|                Y|        great cables|These work great ...|\n",
      "|    4332923| RRB9C05HDOD4O|B00QUFTPV4|     221169481|abcGoodefg® FBI C...|          4|          0|                Y|Work very well bu...|Work very well bu...|\n",
      "|   44855305|R26I2RI1GFV8QG|B0067XVNTG|     563475445|Generic Car Dashb...|          2|          0|                Y|Cameras has batte...|Be careful with t...|\n",
      "|    7846966| RY8DDL22YG4R5|B00KA6CCVY|     713636156|Aweek® Air Acoust...|          3|          1|                Y|It appears to be ...|It appears to be ...|\n",
      "|   21299354|R2AT2426ZHFUHH|B00MJCDPM2|     754171872|Sentey LS-4460 B-...|          3|          1|                Y|Didn't love the f...|First one arrived...|\n",
      "|   28902968|R3RRXU2R23NMQ9|B00ET5AWBY|     508373185|iPad Car Headrest...|          5|          0|                Y|          Five Stars|Worked great for ...|\n",
      "|    2074438|R250PR8VJUZ62F|B00Z9K379C|     759387370|ANWING Waterproof...|          4|          2|                Y|          Four Stars|this is a very go...|\n",
      "|   48701722| RBEMQ29WJBHYG|B00YO3UYXW|     913911909|Jensen MCR-100 Ca...|          5|        168|                Y|  I LOVE my recorder|I LOVE my recorde...|\n",
      "|    2990247|R19VVIUT4BZCMT|B011W26BU2|     938399424|Bluetooth Speaker...|          5|          2|                Y|          Five Stars|Great sound great...|\n",
      "|   52946117|R1DT8JJUQHUKUL|B00H8PI78C|     661515294|15Pcs DC 5V 85dB ...|          3|          1|                Y|More of a beeper ...|If what you want ...|\n",
      "|   49359994| RLIL6S9OGM3YA|B00M49C6MK|      91176851|      Sentey Ls 4162|          5|          0|                Y|          Five Stars|             Love it|\n",
      "|    4158732|R34EZZ68VYPHO0|B011Q291PK|     891142775|IcePACK 8 Can Ins...|          1|          1|                Y|            One Star|               Sucks|\n",
      "|   18944032|R3TZNSOXS13SIG|B00W6OLUGQ|     577462547|DTK® AMI MDI MMI ...|          2|          3|                Y|           Two Stars|u need to plug in...|\n",
      "|     279606|R12UBZT87UX3AP|B008MY1F8W|     680240984|INPA K+CAN K+DCAN...|          5|          2|                Y|          Five Stars|Worked with MHD F...|\n",
      "|   10947966| R5KCRE927NYMU|B00KW3XNUE|     219920841|Magicfly Wireless...|          2|          0|                N|Battery Cover Poo...|Just arrived,  re...|\n",
      "|   18387442| RT12RQFU0V2AX|B009NGR0AK|     254898339|Humminbird XNT 9 ...|          5|          1|                Y|        Works great.|I bought this uni...|\n",
      "|   48950322|R2K0YQPV5W2SJ1|B011W26BU2|     938399424|Bluetooth Speaker...|          4|          2|                Y|A Lot of Sound In...|I am giving the s...|\n",
      "|   48148197|R104MY31OKNGXH|B00PAP68WO|     366592530|Foxnovo 3.7V 380m...|          5|          0|                Y|          Five Stars|Met my applicatio...|\n",
      "+-----------+--------------+----------+--------------+--------------------+-----------+-----------+-----------------+--------------------+--------------------+\n",
      "only showing top 20 rows\n",
      "\n"
     ]
    }
   ],
   "source": [
    "reviews = reviews.drop('vine', 'marketplace', 'helpful_votes', 'review_date', 'product_category')\n",
    "reviews.show()"
   ]
  },
  {
   "cell_type": "markdown",
   "metadata": {},
   "source": [
    "### See if there are any missing values"
   ]
  },
  {
   "cell_type": "code",
   "execution_count": 8,
   "metadata": {},
   "outputs": [
    {
     "name": "stdout",
     "output_type": "stream",
     "text": [
      "+-----------+---------+----------+--------------+-------------+-----------+-----------+-----------------+---------------+-----------+\n",
      "|customer_id|review_id|product_id|product_parent|product_title|star_rating|total_votes|verified_purchase|review_headline|review_body|\n",
      "+-----------+---------+----------+--------------+-------------+-----------+-----------+-----------------+---------------+-----------+\n",
      "|          0|        0|         0|             0|            0|          0|          0|                0|              0|          3|\n",
      "+-----------+---------+----------+--------------+-------------+-----------+-----------+-----------------+---------------+-----------+\n",
      "\n"
     ]
    }
   ],
   "source": [
    "reviews.select([count(when(col(column).isNull(), 1)).alias(column) for column in reviews.columns]).show()"
   ]
  },
  {
   "cell_type": "markdown",
   "metadata": {},
   "source": [
    "### See how many products a customer has reviewed as well as how many customers have reviewed a product"
   ]
  },
  {
   "cell_type": "code",
   "execution_count": 9,
   "metadata": {},
   "outputs": [
    {
     "data": {
      "text/plain": [
       "('B00LHXWPI4',\n",
       " ['10757416',\n",
       "  '15932571',\n",
       "  '17774962',\n",
       "  '15120796',\n",
       "  '1251653',\n",
       "  '23091143',\n",
       "  '17065307',\n",
       "  '23742922',\n",
       "  '34257199',\n",
       "  '42238310',\n",
       "  '17066831',\n",
       "  '52670149',\n",
       "  '12917544'])"
      ]
     },
     "execution_count": 9,
     "metadata": {},
     "output_type": "execute_result"
    }
   ],
   "source": [
    "products_per_reviewer = reviews.select('customer_id', 'product_id').rdd.map(lambda line: (line[0], line[1])).groupByKey().mapValues(list)\n",
    "products_per_reviewer.take(20)\n",
    "\n",
    "reviewers_per_product = reviews.select('product_id', 'customer_id').rdd.map(lambda line: (line[0], line[1])).groupByKey().mapValues(list)\n",
    "reviewers_per_product.first()"
   ]
  },
  {
   "cell_type": "markdown",
   "metadata": {},
   "source": [
    "### One-hot encoding "
   ]
  },
  {
   "cell_type": "code",
   "execution_count": 34,
   "metadata": {},
   "outputs": [
    {
     "name": "stdout",
     "output_type": "stream",
     "text": [
      "+----------+--------------+\n",
      "|product_id|product_id_num|\n",
      "+----------+--------------+\n",
      "|B00MC4CED8|        3543.0|\n",
      "|B00OQMFG1Q|       10502.0|\n",
      "|B00QERR5CY|          13.0|\n",
      "|B00QUFTPV4|        4651.0|\n",
      "|B0067XVNTG|           6.0|\n",
      "+----------+--------------+\n",
      "only showing top 5 rows\n",
      "\n",
      "+----------+--------------------+\n",
      "|product_id|  product_id_num_vec|\n",
      "+----------+--------------------+\n",
      "|B00MC4CED8|(25800,[3543],[1.0])|\n",
      "|B00OQMFG1Q|(25800,[10502],[1...|\n",
      "|B00QERR5CY|  (25800,[13],[1.0])|\n",
      "|B00QUFTPV4|(25800,[4651],[1.0])|\n",
      "|B0067XVNTG|   (25800,[6],[1.0])|\n",
      "+----------+--------------------+\n",
      "only showing top 5 rows\n",
      "\n",
      "+-----------+---------------+\n",
      "|customer_id|customer_id_num|\n",
      "+-----------+---------------+\n",
      "|   20422322|        32552.0|\n",
      "|   40835037|        68316.0|\n",
      "|   51469641|        91970.0|\n",
      "|    4332923|        73522.0|\n",
      "|   44855305|          315.0|\n",
      "+-----------+---------------+\n",
      "only showing top 5 rows\n",
      "\n",
      "+-----------+--------------------+\n",
      "|customer_id| customer_id_num_vec|\n",
      "+-----------+--------------------+\n",
      "|   20422322|(101155,[32552],[...|\n",
      "|   40835037|(101155,[68316],[...|\n",
      "|   51469641|(101155,[91970],[...|\n",
      "|    4332923|(101155,[73522],[...|\n",
      "|   44855305|(101155,[315],[1.0])|\n",
      "+-----------+--------------------+\n",
      "only showing top 5 rows\n",
      "\n"
     ]
    }
   ],
   "source": [
    "from pyspark.ml.feature import StringIndexer, OneHotEncoder\n",
    "\n",
    "# One-hot encode product_id.\n",
    "indexer = StringIndexer(inputCol='product_id', outputCol='product_id_num')\n",
    "prod_indx = indexer.fit(reviews).transform(reviews)\n",
    "prod_indx.select(['product_id', 'product_id_num']).show(5)\n",
    "encoder = OneHotEncoder(inputCol='product_id_num', outputCol='product_id_num_vec')\n",
    "rev_enc = encoder.fit(prod_indx).transform(prod_indx)\n",
    "rev_enc.select(['product_id', 'product_id_num_vec']).show(5)\n",
    "\n",
    "# One-hot encode customer_id.\n",
    "cust_indexer = StringIndexer(inputCol='customer_id', outputCol='customer_id_num')\n",
    "cust_indx = cust_indexer.fit(rev_enc).transform(rev_enc)\n",
    "cust_indx.select(['customer_id', 'customer_id_num']).show(5)\n",
    "cust_encoder = OneHotEncoder(inputCol='customer_id_num', outputCol='customer_id_num_vec')\n",
    "rev_enc = cust_encoder.fit(cust_indx).transform(cust_indx)\n",
    "rev_enc.select(['customer_id', 'customer_id_num_vec']).show(5)"
   ]
  }
 ],
 "metadata": {
  "kernelspec": {
   "display_name": "Python 3.8.2 64-bit",
   "language": "python",
   "name": "python38264bitdae8a119ba324ae3bd0801b8c2c2b174"
  },
  "language_info": {
   "codemirror_mode": {
    "name": "ipython",
    "version": 3
   },
   "file_extension": ".py",
   "mimetype": "text/x-python",
   "name": "python",
   "nbconvert_exporter": "python",
   "pygments_lexer": "ipython3",
   "version": "3.8.2"
  }
 },
 "nbformat": 4,
 "nbformat_minor": 4
}

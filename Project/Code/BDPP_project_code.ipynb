{
 "cells": [
  {
   "cell_type": "markdown",
   "metadata": {},
   "source": [
    "### Invoke SparkContext"
   ]
  },
  {
   "cell_type": "code",
   "execution_count": 1,
   "metadata": {},
   "outputs": [
    {
     "data": {
      "text/html": [
       "\n",
       "        <div>\n",
       "            <p><b>SparkContext</b></p>\n",
       "\n",
       "            <p><a href=\"http://XPS-15:4040\">Spark UI</a></p>\n",
       "\n",
       "            <dl>\n",
       "              <dt>Version</dt>\n",
       "                <dd><code>v3.0.0-preview2</code></dd>\n",
       "              <dt>Master</dt>\n",
       "                <dd><code>local[*]</code></dd>\n",
       "              <dt>AppName</dt>\n",
       "                <dd><code>Spark Lab1</code></dd>\n",
       "            </dl>\n",
       "        </div>\n",
       "        "
      ],
      "text/plain": [
       "<SparkContext master=local[*] appName=Spark Lab1>"
      ]
     },
     "execution_count": 1,
     "metadata": {},
     "output_type": "execute_result"
    }
   ],
   "source": [
    "import findspark\n",
    "findspark.init(\"C:/Users/Jonas/spark\")\n",
    "from pyspark import SparkContext, SparkConf\n",
    "conf = SparkConf().setAppName('Spark Lab1')\n",
    "sc = SparkContext(conf=conf)\n",
    "sc"
   ]
  },
  {
   "cell_type": "markdown",
   "metadata": {},
   "source": [
    "### SparkSession"
   ]
  },
  {
   "cell_type": "code",
   "execution_count": 2,
   "metadata": {},
   "outputs": [],
   "source": [
    "from pyspark.sql import SparkSession\n",
    "\n",
    "spark = SparkSession \\\n",
    "    .builder \\\n",
    "    .appName(\"Spark Project\") \\\n",
    "    .config(\"spark.some.config.option\", \"some-value\") \\\n",
    "    .getOrCreate()"
   ]
  },
  {
   "cell_type": "code",
   "execution_count": 3,
   "metadata": {},
   "outputs": [
    {
     "data": {
      "text/html": [
       "\n",
       "        <div>\n",
       "            <p><b>SparkContext</b></p>\n",
       "\n",
       "            <p><a href=\"http://XPS-15:4040\">Spark UI</a></p>\n",
       "\n",
       "            <dl>\n",
       "              <dt>Version</dt>\n",
       "                <dd><code>v3.0.0-preview2</code></dd>\n",
       "              <dt>Master</dt>\n",
       "                <dd><code>local[*]</code></dd>\n",
       "              <dt>AppName</dt>\n",
       "                <dd><code>Spark Lab1</code></dd>\n",
       "            </dl>\n",
       "        </div>\n",
       "        "
      ],
      "text/plain": [
       "<SparkContext master=local[*] appName=Spark Lab1>"
      ]
     },
     "execution_count": 3,
     "metadata": {},
     "output_type": "execute_result"
    }
   ],
   "source": [
    "spark.sparkContext"
   ]
  },
  {
   "cell_type": "markdown",
   "metadata": {},
   "source": [
    "### Load data"
   ]
  },
  {
   "cell_type": "code",
   "execution_count": 4,
   "metadata": {},
   "outputs": [],
   "source": [
    "from pyspark import SQLContext\n",
    "reviews = spark.read.options(header=True).csv(\"amazon_reviews_us_Mobile_Electronics_v1_00.tsv\", sep=\"\\t\")"
   ]
  },
  {
   "cell_type": "markdown",
   "metadata": {},
   "source": [
    "### See structure of data"
   ]
  },
  {
   "cell_type": "code",
   "execution_count": 5,
   "metadata": {},
   "outputs": [
    {
     "name": "stdout",
     "output_type": "stream",
     "text": [
      "root\n",
      " |-- marketplace: string (nullable = true)\n",
      " |-- customer_id: string (nullable = true)\n",
      " |-- review_id: string (nullable = true)\n",
      " |-- product_id: string (nullable = true)\n",
      " |-- product_parent: string (nullable = true)\n",
      " |-- product_title: string (nullable = true)\n",
      " |-- product_category: string (nullable = true)\n",
      " |-- star_rating: string (nullable = true)\n",
      " |-- helpful_votes: string (nullable = true)\n",
      " |-- total_votes: string (nullable = true)\n",
      " |-- vine: string (nullable = true)\n",
      " |-- verified_purchase: string (nullable = true)\n",
      " |-- review_headline: string (nullable = true)\n",
      " |-- review_body: string (nullable = true)\n",
      " |-- review_date: string (nullable = true)\n",
      "\n"
     ]
    }
   ],
   "source": [
    "reviews.printSchema()"
   ]
  },
  {
   "cell_type": "markdown",
   "metadata": {},
   "source": [
    "### Display data and show significant attributes"
   ]
  },
  {
   "cell_type": "code",
   "execution_count": 6,
   "metadata": {},
   "outputs": [
    {
     "name": "stdout",
     "output_type": "stream",
     "text": [
      "+-----------+-----------+--------------+----------+--------------+--------------------+------------------+-----------+-------------+-----------+----+-----------------+--------------------+--------------------+-----------+\n",
      "|marketplace|customer_id|     review_id|product_id|product_parent|       product_title|  product_category|star_rating|helpful_votes|total_votes|vine|verified_purchase|     review_headline|         review_body|review_date|\n",
      "+-----------+-----------+--------------+----------+--------------+--------------------+------------------+-----------+-------------+-----------+----+-----------------+--------------------+--------------------+-----------+\n",
      "|         US|   20422322| R8MEA6IGAHO0B|B00MC4CED8|     217304173|BlackVue DR600GW-PMP|Mobile_Electronics|          5|            0|          0|   N|                Y|         Very Happy!|As advertised. Ev...| 2015-08-31|\n",
      "|         US|   40835037|R31LOQ8JGLPRLK|B00OQMFG1Q|     137313254|GENSSI GSM / GPS ...|Mobile_Electronics|          5|            0|          1|   N|                Y|           five star|          it's great| 2015-08-31|\n",
      "|         US|   51469641|R2Y0MM9YE6OP3P|B00QERR5CY|      82850235|iXCC Multi pack L...|Mobile_Electronics|          5|            0|          0|   N|                Y|        great cables|These work great ...| 2015-08-31|\n",
      "|         US|    4332923| RRB9C05HDOD4O|B00QUFTPV4|     221169481|abcGoodefg® FBI C...|Mobile_Electronics|          4|            0|          0|   N|                Y|Work very well bu...|Work very well bu...| 2015-08-31|\n",
      "|         US|   44855305|R26I2RI1GFV8QG|B0067XVNTG|     563475445|Generic Car Dashb...|Mobile_Electronics|          2|            0|          0|   N|                Y|Cameras has batte...|Be careful with t...| 2015-08-31|\n",
      "|         US|    7846966| RY8DDL22YG4R5|B00KA6CCVY|     713636156|Aweek® Air Acoust...|Mobile_Electronics|          3|            0|          1|   N|                Y|It appears to be ...|It appears to be ...| 2015-08-31|\n",
      "|         US|   21299354|R2AT2426ZHFUHH|B00MJCDPM2|     754171872|Sentey LS-4460 B-...|Mobile_Electronics|          3|            0|          1|   N|                Y|Didn't love the f...|First one arrived...| 2015-08-31|\n",
      "|         US|   28902968|R3RRXU2R23NMQ9|B00ET5AWBY|     508373185|iPad Car Headrest...|Mobile_Electronics|          5|            0|          0|   N|                Y|          Five Stars|Worked great for ...| 2015-08-31|\n",
      "|         US|    2074438|R250PR8VJUZ62F|B00Z9K379C|     759387370|ANWING Waterproof...|Mobile_Electronics|          4|            0|          2|   N|                Y|          Four Stars|this is a very go...| 2015-08-31|\n",
      "|         US|   48701722| RBEMQ29WJBHYG|B00YO3UYXW|     913911909|Jensen MCR-100 Ca...|Mobile_Electronics|          5|          164|        168|   N|                Y|  I LOVE my recorder|I LOVE my recorde...| 2015-08-31|\n",
      "|         US|    2990247|R19VVIUT4BZCMT|B011W26BU2|     938399424|Bluetooth Speaker...|Mobile_Electronics|          5|            2|          2|   N|                Y|          Five Stars|Great sound great...| 2015-08-31|\n",
      "|         US|   52946117|R1DT8JJUQHUKUL|B00H8PI78C|     661515294|15Pcs DC 5V 85dB ...|Mobile_Electronics|          3|            0|          1|   N|                Y|More of a beeper ...|If what you want ...| 2015-08-31|\n",
      "|         US|   49359994| RLIL6S9OGM3YA|B00M49C6MK|      91176851|      Sentey Ls 4162|Mobile_Electronics|          5|            0|          0|   N|                Y|          Five Stars|             Love it| 2015-08-31|\n",
      "|         US|    4158732|R34EZZ68VYPHO0|B011Q291PK|     891142775|IcePACK 8 Can Ins...|Mobile_Electronics|          1|            1|          1|   N|                Y|            One Star|               Sucks| 2015-08-31|\n",
      "|         US|   18944032|R3TZNSOXS13SIG|B00W6OLUGQ|     577462547|DTK® AMI MDI MMI ...|Mobile_Electronics|          2|            1|          3|   N|                Y|           Two Stars|u need to plug in...| 2015-08-31|\n",
      "|         US|     279606|R12UBZT87UX3AP|B008MY1F8W|     680240984|INPA K+CAN K+DCAN...|Mobile_Electronics|          5|            2|          2|   N|                Y|          Five Stars|Worked with MHD F...| 2015-08-31|\n",
      "|         US|   10947966| R5KCRE927NYMU|B00KW3XNUE|     219920841|Magicfly Wireless...|Mobile_Electronics|          2|            0|          0|   N|                N|Battery Cover Poo...|Just arrived,  re...| 2015-08-31|\n",
      "|         US|   18387442| RT12RQFU0V2AX|B009NGR0AK|     254898339|Humminbird XNT 9 ...|Mobile_Electronics|          5|            1|          1|   N|                Y|        Works great.|I bought this uni...| 2015-08-31|\n",
      "|         US|   48950322|R2K0YQPV5W2SJ1|B011W26BU2|     938399424|Bluetooth Speaker...|Mobile_Electronics|          4|            2|          2|   N|                Y|A Lot of Sound In...|I am giving the s...| 2015-08-31|\n",
      "|         US|   48148197|R104MY31OKNGXH|B00PAP68WO|     366592530|Foxnovo 3.7V 380m...|Mobile_Electronics|          5|            0|          0|   N|                Y|          Five Stars|Met my applicatio...| 2015-08-31|\n",
      "+-----------+-----------+--------------+----------+--------------+--------------------+------------------+-----------+-------------+-----------+----+-----------------+--------------------+--------------------+-----------+\n",
      "only showing top 20 rows\n",
      "\n",
      "+-----------+-----+\n",
      "|star_rating|count|\n",
      "+-----------+-----+\n",
      "|          5|52255|\n",
      "|          4|18088|\n",
      "|          1|17587|\n",
      "|          3| 9734|\n",
      "|          2| 7311|\n",
      "+-----------+-----+\n",
      "\n",
      "+-----------+-----+\n",
      "|customer_id|count|\n",
      "+-----------+-----+\n",
      "|   15127646|   25|\n",
      "|   29514513|   21|\n",
      "|   12259799|   18|\n",
      "|   43856165|   10|\n",
      "|   19803990|   10|\n",
      "|   52460215|   10|\n",
      "|   34408569|   10|\n",
      "|   49675502|    9|\n",
      "|   53037408|    9|\n",
      "|   50027179|    8|\n",
      "|   53090839|    8|\n",
      "|   32038204|    8|\n",
      "|   51666042|    8|\n",
      "|   45070473|    8|\n",
      "|   51346302|    7|\n",
      "|    7394955|    7|\n",
      "|   17957446|    7|\n",
      "|   44834233|    7|\n",
      "|   34645354|    7|\n",
      "|   11995502|    7|\n",
      "+-----------+-----+\n",
      "only showing top 20 rows\n",
      "\n"
     ]
    }
   ],
   "source": [
    "from pyspark.sql.functions import *\n",
    "\n",
    "reviews.show()\n",
    "\n",
    "reviews.groupBy('star_rating').count().orderBy(desc('count')).show()\n",
    "\n",
    "reviews.groupBy('customer_id').count().orderBy(desc('count')).show()\n",
    "\n",
    "#reviews.select('product_id').distinct().count()"
   ]
  },
  {
   "cell_type": "markdown",
   "metadata": {},
   "source": [
    "### See that there are more product id's than product titles"
   ]
  },
  {
   "cell_type": "code",
   "execution_count": 7,
   "metadata": {},
   "outputs": [
    {
     "data": {
      "text/plain": [
       "24770"
      ]
     },
     "execution_count": 7,
     "metadata": {},
     "output_type": "execute_result"
    }
   ],
   "source": [
    "reviews.select('product_title').distinct().count()"
   ]
  },
  {
   "cell_type": "code",
   "execution_count": 8,
   "metadata": {},
   "outputs": [
    {
     "data": {
      "text/plain": [
       "25801"
      ]
     },
     "execution_count": 8,
     "metadata": {},
     "output_type": "execute_result"
    }
   ],
   "source": [
    "reviews.select('product_id').distinct().count()"
   ]
  },
  {
   "cell_type": "markdown",
   "metadata": {},
   "source": [
    "### Drop attributes of no importance"
   ]
  },
  {
   "cell_type": "code",
   "execution_count": 9,
   "metadata": {},
   "outputs": [
    {
     "name": "stdout",
     "output_type": "stream",
     "text": [
      "+-----------+--------------+----------+--------------+--------------------+-----------+-----------+-----------------+--------------------+--------------------+\n",
      "|customer_id|     review_id|product_id|product_parent|       product_title|star_rating|total_votes|verified_purchase|     review_headline|         review_body|\n",
      "+-----------+--------------+----------+--------------+--------------------+-----------+-----------+-----------------+--------------------+--------------------+\n",
      "|   20422322| R8MEA6IGAHO0B|B00MC4CED8|     217304173|BlackVue DR600GW-PMP|          5|          0|                Y|         Very Happy!|As advertised. Ev...|\n",
      "|   40835037|R31LOQ8JGLPRLK|B00OQMFG1Q|     137313254|GENSSI GSM / GPS ...|          5|          1|                Y|           five star|          it's great|\n",
      "|   51469641|R2Y0MM9YE6OP3P|B00QERR5CY|      82850235|iXCC Multi pack L...|          5|          0|                Y|        great cables|These work great ...|\n",
      "|    4332923| RRB9C05HDOD4O|B00QUFTPV4|     221169481|abcGoodefg® FBI C...|          4|          0|                Y|Work very well bu...|Work very well bu...|\n",
      "|   44855305|R26I2RI1GFV8QG|B0067XVNTG|     563475445|Generic Car Dashb...|          2|          0|                Y|Cameras has batte...|Be careful with t...|\n",
      "|    7846966| RY8DDL22YG4R5|B00KA6CCVY|     713636156|Aweek® Air Acoust...|          3|          1|                Y|It appears to be ...|It appears to be ...|\n",
      "|   21299354|R2AT2426ZHFUHH|B00MJCDPM2|     754171872|Sentey LS-4460 B-...|          3|          1|                Y|Didn't love the f...|First one arrived...|\n",
      "|   28902968|R3RRXU2R23NMQ9|B00ET5AWBY|     508373185|iPad Car Headrest...|          5|          0|                Y|          Five Stars|Worked great for ...|\n",
      "|    2074438|R250PR8VJUZ62F|B00Z9K379C|     759387370|ANWING Waterproof...|          4|          2|                Y|          Four Stars|this is a very go...|\n",
      "|   48701722| RBEMQ29WJBHYG|B00YO3UYXW|     913911909|Jensen MCR-100 Ca...|          5|        168|                Y|  I LOVE my recorder|I LOVE my recorde...|\n",
      "|    2990247|R19VVIUT4BZCMT|B011W26BU2|     938399424|Bluetooth Speaker...|          5|          2|                Y|          Five Stars|Great sound great...|\n",
      "|   52946117|R1DT8JJUQHUKUL|B00H8PI78C|     661515294|15Pcs DC 5V 85dB ...|          3|          1|                Y|More of a beeper ...|If what you want ...|\n",
      "|   49359994| RLIL6S9OGM3YA|B00M49C6MK|      91176851|      Sentey Ls 4162|          5|          0|                Y|          Five Stars|             Love it|\n",
      "|    4158732|R34EZZ68VYPHO0|B011Q291PK|     891142775|IcePACK 8 Can Ins...|          1|          1|                Y|            One Star|               Sucks|\n",
      "|   18944032|R3TZNSOXS13SIG|B00W6OLUGQ|     577462547|DTK® AMI MDI MMI ...|          2|          3|                Y|           Two Stars|u need to plug in...|\n",
      "|     279606|R12UBZT87UX3AP|B008MY1F8W|     680240984|INPA K+CAN K+DCAN...|          5|          2|                Y|          Five Stars|Worked with MHD F...|\n",
      "|   10947966| R5KCRE927NYMU|B00KW3XNUE|     219920841|Magicfly Wireless...|          2|          0|                N|Battery Cover Poo...|Just arrived,  re...|\n",
      "|   18387442| RT12RQFU0V2AX|B009NGR0AK|     254898339|Humminbird XNT 9 ...|          5|          1|                Y|        Works great.|I bought this uni...|\n",
      "|   48950322|R2K0YQPV5W2SJ1|B011W26BU2|     938399424|Bluetooth Speaker...|          4|          2|                Y|A Lot of Sound In...|I am giving the s...|\n",
      "|   48148197|R104MY31OKNGXH|B00PAP68WO|     366592530|Foxnovo 3.7V 380m...|          5|          0|                Y|          Five Stars|Met my applicatio...|\n",
      "+-----------+--------------+----------+--------------+--------------------+-----------+-----------+-----------------+--------------------+--------------------+\n",
      "only showing top 20 rows\n",
      "\n"
     ]
    }
   ],
   "source": [
    "reviews = reviews.drop('vine', 'marketplace', 'helpful_votes', 'review_date', 'product_category')\n",
    "reviews.show()"
   ]
  },
  {
   "cell_type": "markdown",
   "metadata": {},
   "source": [
    "### Drop purchases that are not verified"
   ]
  },
  {
   "cell_type": "code",
   "execution_count": 10,
   "metadata": {},
   "outputs": [],
   "source": [
    "reviews = reviews.filter(reviews['verified_purchase'] == 'Y')"
   ]
  },
  {
   "cell_type": "markdown",
   "metadata": {},
   "source": [
    "### See if there are any missing values"
   ]
  },
  {
   "cell_type": "code",
   "execution_count": 11,
   "metadata": {},
   "outputs": [
    {
     "name": "stdout",
     "output_type": "stream",
     "text": [
      "+-----------+---------+----------+--------------+-------------+-----------+-----------+-----------------+---------------+-----------+\n",
      "|customer_id|review_id|product_id|product_parent|product_title|star_rating|total_votes|verified_purchase|review_headline|review_body|\n",
      "+-----------+---------+----------+--------------+-------------+-----------+-----------+-----------------+---------------+-----------+\n",
      "|          0|        0|         0|             0|            0|          0|          0|                0|              0|          2|\n",
      "+-----------+---------+----------+--------------+-------------+-----------+-----------+-----------------+---------------+-----------+\n",
      "\n"
     ]
    }
   ],
   "source": [
    "reviews.select([count(when(col(column).isNull(), 1)).alias(column) for column in reviews.columns]).show()"
   ]
  },
  {
   "cell_type": "markdown",
   "metadata": {},
   "source": [
    "### See how many products a customer has reviewed as well as how many customers have reviewed a product"
   ]
  },
  {
   "cell_type": "code",
   "execution_count": 12,
   "metadata": {},
   "outputs": [
    {
     "data": {
      "text/plain": [
       "('B00IK9UZXA',\n",
       " ['27920584',\n",
       "  '41176333',\n",
       "  '46649972',\n",
       "  '4045807',\n",
       "  '11848841',\n",
       "  '50531937',\n",
       "  '38851576',\n",
       "  '25722326',\n",
       "  '39977926',\n",
       "  '52676254',\n",
       "  '53014729',\n",
       "  '20376268',\n",
       "  '45099581',\n",
       "  '16604212',\n",
       "  '31938511',\n",
       "  '7638202',\n",
       "  '43420453',\n",
       "  '45377877',\n",
       "  '12895448',\n",
       "  '36652076',\n",
       "  '36857302',\n",
       "  '48456827',\n",
       "  '9608052',\n",
       "  '725660',\n",
       "  '25115390',\n",
       "  '14735526',\n",
       "  '42764494',\n",
       "  '13242611',\n",
       "  '21480619',\n",
       "  '43086607',\n",
       "  '27819527',\n",
       "  '18958874',\n",
       "  '14891305',\n",
       "  '32627436',\n",
       "  '11763091',\n",
       "  '23502590',\n",
       "  '30741919',\n",
       "  '46506176',\n",
       "  '575100',\n",
       "  '21033751',\n",
       "  '26358287',\n",
       "  '23049788',\n",
       "  '3911458',\n",
       "  '21327655',\n",
       "  '469867',\n",
       "  '30340217',\n",
       "  '1698807',\n",
       "  '12570796',\n",
       "  '14744266',\n",
       "  '13176295',\n",
       "  '24880345',\n",
       "  '43208018',\n",
       "  '1835274',\n",
       "  '25603004',\n",
       "  '13286680',\n",
       "  '39872080',\n",
       "  '1346655',\n",
       "  '31686046',\n",
       "  '42882972',\n",
       "  '44379744',\n",
       "  '15064996',\n",
       "  '42308476',\n",
       "  '45937962',\n",
       "  '40008316',\n",
       "  '49703771',\n",
       "  '18583037',\n",
       "  '41826099',\n",
       "  '52574556',\n",
       "  '36024579',\n",
       "  '43245605',\n",
       "  '25397638',\n",
       "  '42785736',\n",
       "  '48412566',\n",
       "  '38574376',\n",
       "  '49900231',\n",
       "  '35705778',\n",
       "  '10668033',\n",
       "  '25969974',\n",
       "  '35177038',\n",
       "  '22171953',\n",
       "  '48902626',\n",
       "  '16013147',\n",
       "  '25334528',\n",
       "  '12266095',\n",
       "  '29038838',\n",
       "  '50698779',\n",
       "  '29767964',\n",
       "  '46079795',\n",
       "  '52409573',\n",
       "  '2670679',\n",
       "  '13305835',\n",
       "  '40213599',\n",
       "  '1647555',\n",
       "  '53067562',\n",
       "  '18012074',\n",
       "  '16413565',\n",
       "  '4323337',\n",
       "  '12893112',\n",
       "  '36471929',\n",
       "  '26751780',\n",
       "  '52678955',\n",
       "  '14606412',\n",
       "  '2126260',\n",
       "  '11780766',\n",
       "  '49492461',\n",
       "  '48429568',\n",
       "  '19318362',\n",
       "  '33701257',\n",
       "  '50015553',\n",
       "  '36503971',\n",
       "  '45080311'])"
      ]
     },
     "execution_count": 12,
     "metadata": {},
     "output_type": "execute_result"
    }
   ],
   "source": [
    "products_per_reviewer = reviews.select('customer_id', 'product_id').rdd.map(lambda line: (line[0], line[1])).groupByKey().mapValues(list)\n",
    "products_per_reviewer.take(20)\n",
    "\n",
    "reviewers_per_product = reviews.select('product_id', 'customer_id').rdd.map(lambda line: (line[0], line[1])).groupByKey().mapValues(list)\n",
    "reviewers_per_product.first()"
   ]
  },
  {
   "cell_type": "markdown",
   "metadata": {},
   "source": [
    "### One-hot encoding "
   ]
  },
  {
   "cell_type": "code",
   "execution_count": 13,
   "metadata": {},
   "outputs": [
    {
     "name": "stdout",
     "output_type": "stream",
     "text": [
      "+-----------+--------------+----------+--------------+--------------------+-----------+-----------+-----------------+--------------------+--------------------+--------------+--------------------+---------------+--------------------+---------------+-------------------+\n",
      "|customer_id|     review_id|product_id|product_parent|       product_title|star_rating|total_votes|verified_purchase|     review_headline|         review_body|product_id_num|  product_id_num_vec|customer_id_num| customer_id_num_vec|star_rating_num|star_rating_num_vec|\n",
      "+-----------+--------------+----------+--------------+--------------------+-----------+-----------+-----------------+--------------------+--------------------+--------------+--------------------+---------------+--------------------+---------------+-------------------+\n",
      "|   20422322| R8MEA6IGAHO0B|B00MC4CED8|     217304173|BlackVue DR600GW-PMP|          5|          0|                Y|         Very Happy!|As advertised. Ev...|        3015.0|(22311,[3015],[1.0])|        27489.0|(85877,[27489],[1...|            0.0|      (4,[0],[1.0])|\n",
      "|   40835037|R31LOQ8JGLPRLK|B00OQMFG1Q|     137313254|GENSSI GSM / GPS ...|          5|          1|                Y|           five star|          it's great|       21405.0|(22311,[21405],[1...|        58223.0|(85877,[58223],[1...|            0.0|      (4,[0],[1.0])|\n",
      "|   51469641|R2Y0MM9YE6OP3P|B00QERR5CY|      82850235|iXCC Multi pack L...|          5|          0|                Y|        great cables|These work great ...|          12.0|  (22311,[12],[1.0])|        78362.0|(85877,[78362],[1...|            0.0|      (4,[0],[1.0])|\n",
      "|    4332923| RRB9C05HDOD4O|B00QUFTPV4|     221169481|abcGoodefg® FBI C...|          4|          0|                Y|Work very well bu...|Work very well bu...|        3877.0|(22311,[3877],[1.0])|        62750.0|(85877,[62750],[1...|            1.0|      (4,[1],[1.0])|\n",
      "|   44855305|R26I2RI1GFV8QG|B0067XVNTG|     563475445|Generic Car Dashb...|          2|          0|                Y|Cameras has batte...|Be careful with t...|           5.0|   (22311,[5],[1.0])|          190.0| (85877,[190],[1.0])|            4.0|          (4,[],[])|\n",
      "|    7846966| RY8DDL22YG4R5|B00KA6CCVY|     713636156|Aweek® Air Acoust...|          3|          1|                Y|It appears to be ...|It appears to be ...|         976.0| (22311,[976],[1.0])|        84108.0|(85877,[84108],[1...|            3.0|      (4,[3],[1.0])|\n",
      "|   21299354|R2AT2426ZHFUHH|B00MJCDPM2|     754171872|Sentey LS-4460 B-...|          3|          1|                Y|Didn't love the f...|First one arrived...|          81.0|  (22311,[81],[1.0])|        29093.0|(85877,[29093],[1...|            3.0|      (4,[3],[1.0])|\n",
      "|   28902968|R3RRXU2R23NMQ9|B00ET5AWBY|     508373185|iPad Car Headrest...|          5|          0|                Y|          Five Stars|Worked great for ...|        1073.0|(22311,[1073],[1.0])|        41650.0|(85877,[41650],[1...|            0.0|      (4,[0],[1.0])|\n",
      "|    2074438|R250PR8VJUZ62F|B00Z9K379C|     759387370|ANWING Waterproof...|          4|          2|                Y|          Four Stars|this is a very go...|       22265.0|(22311,[22265],[1...|        28123.0|(85877,[28123],[1...|            1.0|      (4,[1],[1.0])|\n",
      "|   48701722| RBEMQ29WJBHYG|B00YO3UYXW|     913911909|Jensen MCR-100 Ca...|          5|        168|                Y|  I LOVE my recorder|I LOVE my recorde...|        3894.0|(22311,[3894],[1.0])|        73231.0|(85877,[73231],[1...|            0.0|      (4,[0],[1.0])|\n",
      "|    2990247|R19VVIUT4BZCMT|B011W26BU2|     938399424|Bluetooth Speaker...|          5|          2|                Y|          Five Stars|Great sound great...|        1315.0|(22311,[1315],[1.0])|        43074.0|(85877,[43074],[1...|            0.0|      (4,[0],[1.0])|\n",
      "|   52946117|R1DT8JJUQHUKUL|B00H8PI78C|     661515294|15Pcs DC 5V 85dB ...|          3|          1|                Y|More of a beeper ...|If what you want ...|        2974.0|(22311,[2974],[1.0])|        81710.0|(85877,[81710],[1...|            3.0|      (4,[3],[1.0])|\n",
      "|   49359994| RLIL6S9OGM3YA|B00M49C6MK|      91176851|      Sentey Ls 4162|          5|          0|                Y|          Five Stars|             Love it|         153.0| (22311,[153],[1.0])|        74352.0|(85877,[74352],[1...|            0.0|      (4,[0],[1.0])|\n",
      "|    4158732|R34EZZ68VYPHO0|B011Q291PK|     891142775|IcePACK 8 Can Ins...|          1|          1|                Y|            One Star|               Sucks|       22304.0|(22311,[22304],[1...|        59441.0|(85877,[59441],[1...|            2.0|      (4,[2],[1.0])|\n",
      "|   18944032|R3TZNSOXS13SIG|B00W6OLUGQ|     577462547|DTK® AMI MDI MMI ...|          2|          3|                Y|           Two Stars|u need to plug in...|       22125.0|(22311,[22125],[1...|        24604.0|(85877,[24604],[1...|            4.0|          (4,[],[])|\n",
      "|     279606|R12UBZT87UX3AP|B008MY1F8W|     680240984|INPA K+CAN K+DCAN...|          5|          2|                Y|          Five Stars|Worked with MHD F...|         219.0| (22311,[219],[1.0])|        40367.0|(85877,[40367],[1...|            0.0|      (4,[0],[1.0])|\n",
      "|   18387442| RT12RQFU0V2AX|B009NGR0AK|     254898339|Humminbird XNT 9 ...|          5|          1|                Y|        Works great.|I bought this uni...|        4951.0|(22311,[4951],[1.0])|        23639.0|(85877,[23639],[1...|            0.0|      (4,[0],[1.0])|\n",
      "|   48950322|R2K0YQPV5W2SJ1|B011W26BU2|     938399424|Bluetooth Speaker...|          4|          2|                Y|A Lot of Sound In...|I am giving the s...|        1315.0|(22311,[1315],[1.0])|        73607.0|(85877,[73607],[1...|            1.0|      (4,[1],[1.0])|\n",
      "|   48148197|R104MY31OKNGXH|B00PAP68WO|     366592530|Foxnovo 3.7V 380m...|          5|          0|                Y|          Five Stars|Met my applicatio...|       21500.0|(22311,[21500],[1...|        72281.0|(85877,[72281],[1...|            0.0|      (4,[0],[1.0])|\n",
      "|   24863069|R32MW6D6CXKCFW|B00LTCIT7Y|     332806411|Astatic (302-1000...|          2|          0|                Y|           Two Stars|Scratchy when key...|        1436.0|(22311,[1436],[1.0])|        35493.0|(85877,[35493],[1...|            4.0|          (4,[],[])|\n",
      "+-----------+--------------+----------+--------------+--------------------+-----------+-----------+-----------------+--------------------+--------------------+--------------+--------------------+---------------+--------------------+---------------+-------------------+\n",
      "only showing top 20 rows\n",
      "\n"
     ]
    }
   ],
   "source": [
    "from pyspark.ml.feature import StringIndexer, OneHotEncoder\n",
    "from pyspark.ml import Pipeline\n",
    "\n",
    "# To one-hot encode product_id.\n",
    "prod_indexer = StringIndexer(inputCol='product_id', outputCol='product_id_num')\n",
    "prod_encoder = OneHotEncoder(inputCol='product_id_num', outputCol='product_id_num_vec')\n",
    "\n",
    "# To one-hot encode customer_id.\n",
    "cust_indexer = StringIndexer(inputCol='customer_id', outputCol='customer_id_num')\n",
    "cust_encoder = OneHotEncoder(inputCol='customer_id_num', outputCol='customer_id_num_vec')\n",
    "\n",
    "# To one-hot encode verified_purchase.\n",
    "purch_indexer = StringIndexer(inputCol='verified_purchase', outputCol='verified_purchase_num')\n",
    "purch_encoder = OneHotEncoder(inputCol='verified_purchase_num', outputCol='verified_purchase_num_vec')\n",
    "\n",
    "# To one-hot encode star_rating.\n",
    "star_indexer = StringIndexer(inputCol='star_rating', outputCol='star_rating_num')\n",
    "star_encoder = OneHotEncoder(inputCol='star_rating_num', outputCol='star_rating_num_vec')\n",
    "\n",
    "\n",
    "prod_pipe = Pipeline(stages = [prod_indexer, prod_encoder])\n",
    "cust_pipe = Pipeline(stages = [cust_indexer, cust_encoder])\n",
    "purch_pipe = Pipeline(stages = [purch_indexer, purch_encoder])\n",
    "star_pipe = Pipeline(stages = [star_indexer, star_encoder])\n",
    "\n",
    "pipe = Pipeline(stages = [prod_pipe, cust_pipe, star_pipe])\n",
    "\n",
    "reviews_enc = pipe.fit(reviews).transform(reviews)\n",
    "reviews_enc.show()"
   ]
  },
  {
   "cell_type": "markdown",
   "metadata": {},
   "source": [
    "### Train ALS model"
   ]
  },
  {
   "cell_type": "code",
   "execution_count": 14,
   "metadata": {},
   "outputs": [],
   "source": [
    "from pyspark.ml.recommendation import ALS\n",
    "# Split into train and test data.\n",
    "training, test = reviews_enc.randomSplit([0.8, 0.2])\n",
    "\n",
    "als = ALS(userCol='customer_id_num', itemCol='product_id_num', ratingCol='star_rating_num', \\\n",
    "          implicitPrefs=True , coldStartStrategy=\"drop\")\n",
    "trained_model = als.fit(training)"
   ]
  },
  {
   "cell_type": "markdown",
   "metadata": {},
   "source": [
    "### Test ALS model"
   ]
  },
  {
   "cell_type": "code",
   "execution_count": 15,
   "metadata": {},
   "outputs": [
    {
     "name": "stdout",
     "output_type": "stream",
     "text": [
      "Root mean squared error: 1.4840263475739197\n"
     ]
    }
   ],
   "source": [
    "from pyspark.ml.evaluation import RegressionEvaluator\n",
    "predictions = trained_model.transform(test)\n",
    "\n",
    "evaluator = RegressionEvaluator(metricName='rmse', labelCol='star_rating_num', predictionCol='prediction')\n",
    "rmse = evaluator.evaluate(predictions)\n",
    "print(f'Root mean squared error: {rmse}')"
   ]
  },
  {
   "cell_type": "markdown",
   "metadata": {},
   "source": [
    "### Cross-validation"
   ]
  },
  {
   "cell_type": "code",
   "execution_count": 17,
   "metadata": {},
   "outputs": [
    {
     "name": "stdout",
     "output_type": "stream",
     "text": [
      "Root Mean Squared Error: 1.6100207885929898\n"
     ]
    }
   ],
   "source": [
    "from pyspark.ml.tuning import CrossValidator, ParamGridBuilder\n",
    "\n",
    "params = ParamGridBuilder().addGrid(als.maxIter, [5,10]).addGrid(als.regParam, [0.1, 0.2, 0.5]).build()\n",
    "cv = CrossValidator(estimator=als, estimatorParamMaps=params, evaluator=evaluator, numFolds=5)\n",
    "cv_model = cv.fit(reviews_enc)\n",
    "predictions = cv_model.transform(reviews_enc)\n",
    "rmse = evaluator.evaluate(predictions)\n",
    "\n",
    "print( \"Root Mean Squared Error: \"+ str(rmse))"
   ]
  }
 ],
 "metadata": {
  "kernelspec": {
   "display_name": "Python 3.8.2 64-bit",
   "language": "python",
   "name": "python38264bitdae8a119ba324ae3bd0801b8c2c2b174"
  },
  "language_info": {
   "codemirror_mode": {
    "name": "ipython",
    "version": 3
   },
   "file_extension": ".py",
   "mimetype": "text/x-python",
   "name": "python",
   "nbconvert_exporter": "python",
   "pygments_lexer": "ipython3",
   "version": "3.8.2"
  }
 },
 "nbformat": 4,
 "nbformat_minor": 4
}
